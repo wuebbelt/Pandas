{
 "cells": [
  {
   "cell_type": "markdown",
   "metadata": {},
   "source": [
    "# DataFrame Methods More\n",
    "\n",
    "## Overview \n",
    "\n",
    "This chapter covers many more common DataFrame methods. Again, these are the most common and fundamental methods that give you all the power to complete any data analysis. All of these methods are also found in Series objects.\n",
    "\n",
    "### Objectives\n",
    "\n",
    "* Handling missing data: `isna`, `notna`, `fillna`, `dropna`\n",
    "* Sorting the values and the index with `sort_values` and `sort_index`\n",
    "* Finding the index of the max and min with `idxmax` and `idxmin`\n",
    "* Renaming column names with `rename`\n",
    "* Dropping columns with `drop`\n",
    "* Adding new columns to a DataFrame\n",
    "* Operating with two Series at a time\n",
    "* Series Methods not found in DataFrames - `str`, `dt`, `unique`, `value_counts`"
   ]
  },
  {
   "cell_type": "code",
   "execution_count": null,
   "metadata": {},
   "outputs": [],
   "source": [
    "import pandas as pd\n",
    "pd.set_option('display.max_columns', 40)\n",
    "movie = pd.read_csv('../data/movie.csv', index_col='title')\n",
    "movie.head()"
   ]
  },
  {
   "cell_type": "markdown",
   "metadata": {},
   "source": [
    "## Methods for handling missing values\n",
    "pandas provides the following DataFrame methods to handle missing values:\n",
    "\n",
    "* `isna` - Returns a Series of booleans based on whether each value is missing or not\n",
    "* `notna` - Exact opposite of `isna`\n",
    "* `fillna` - Fills missing values in a variety of ways\n",
    "* `dropna` - Drops missing values\n",
    "\n",
    "### Finding the number of missing values in each column\n",
    "pandas gives us a direct way to find the number of non-missing values in each column with the `count` method. To find the number of missing values we will need to call the `isna` method to turn each value into a boolean and then sum each column."
   ]
  },
  {
   "cell_type": "code",
   "execution_count": null,
   "metadata": {},
   "outputs": [],
   "source": [
    "# find the number of non-missing values per column\n",
    "movie.count().head()"
   ]
  },
  {
   "cell_type": "code",
   "execution_count": null,
   "metadata": {},
   "outputs": [],
   "source": [
    "movie.isna().head()"
   ]
  },
  {
   "cell_type": "markdown",
   "metadata": {},
   "source": [
    "Now, we can chain the `sum` method to count the number of missing values in each column."
   ]
  },
  {
   "cell_type": "code",
   "execution_count": null,
   "metadata": {},
   "outputs": [],
   "source": [
    "movie.isna().sum().head()"
   ]
  },
  {
   "cell_type": "markdown",
   "metadata": {},
   "source": [
    "### Find the percentage of missing values by calling the mean method\n",
    "As we have seen before, taking the mean of a boolean Series returns the percentage of values that are `True` and in this case returns the percentage of missing values for each column."
   ]
  },
  {
   "cell_type": "code",
   "execution_count": null,
   "metadata": {},
   "outputs": [],
   "source": [
    "movie.isna().mean().head()"
   ]
  },
  {
   "cell_type": "markdown",
   "metadata": {},
   "source": [
    "## The `fillna` method\n",
    "The `fillna` method fills the missing values in your DataFrame in a couple of different ways.\n",
    "\n",
    "### Filling the missing values with a given constant\n",
    "The most basic way to use the `fillna` method is to pass it a single value. Doing so will replace every missing value with this constant. The following replaces all missing values with the string 'FILLED'. Note, that this will replace all missing value representations - `NaN`, `NaT`, and `None`. The fifth row is the only one with visible missing values from the output below."
   ]
  },
  {
   "cell_type": "code",
   "execution_count": null,
   "metadata": {},
   "outputs": [],
   "source": [
    "movie.fillna('FILLED').head()"
   ]
  },
  {
   "cell_type": "markdown",
   "metadata": {},
   "source": [
    "Filling a DataFrame's missing values with a single constant value is unlikely what you'd need in a real situation. The `movie` DataFrame has columns of different data types and by using the string `FILLED` we will have changed the data type of any numeric column to object. For instance, the column `duration` was originally a float and is now an object.\n",
    "\n",
    "### Using a Dictionary to fill specific columns\n",
    "\n",
    "A more practical application would be to fill each column with a different constant value. We can use `fillna` do this by passing it a dictionary that maps the column name to the missing value replacement. The following fills the `content_rating` column with 'PG' and the `duration` column with 199."
   ]
  },
  {
   "cell_type": "code",
   "execution_count": null,
   "metadata": {},
   "outputs": [],
   "source": [
    "movie.fillna({'content_rating': 'PG', 'duration': 199}).head()"
   ]
  },
  {
   "cell_type": "markdown",
   "metadata": {},
   "source": [
    "### Fill all columns with the mean\n",
    "A somewhat common approach to filling missing values is to use the mean of the column as the replacement. Taking the `mean` of a DataFrame will return a Series that has each column name labeling its mean. A Series is also a valid object that can be passed to the `fillna` method. Let's begin by finding the mean of each column. We round the mean to the nearest whole number as most of the columns use whole numbers."
   ]
  },
  {
   "cell_type": "code",
   "execution_count": null,
   "metadata": {},
   "outputs": [],
   "source": [
    "mm = movie.mean(numeric_only=True).round(0)\n",
    "mm.head()"
   ]
  },
  {
   "cell_type": "markdown",
   "metadata": {},
   "source": [
    "Pass the above Series to `fillna` to use a different missing value for each column. Note, that the string columns will not be filled as they do not have a mean."
   ]
  },
  {
   "cell_type": "code",
   "execution_count": null,
   "metadata": {},
   "outputs": [],
   "source": [
    "movie.fillna(mm).head()"
   ]
  },
  {
   "cell_type": "markdown",
   "metadata": {},
   "source": [
    "Filling missing values with the mean isn't necessarily a good strategy when doing data analysis. The example above is merely used as a demonstration on how the `fillna` method works.\n",
    "\n",
    "### Filling missing values with the preceding or following values\n",
    "Instead of filling missing values with a constant, you can fill in missing values with the immediately preceding or following known value. Let's use a simple csv to clearly see how this done."
   ]
  },
  {
   "cell_type": "code",
   "execution_count": null,
   "metadata": {},
   "outputs": [],
   "source": [
    "df = pd.read_csv('../data/missing_example.csv')\n",
    "df"
   ]
  },
  {
   "cell_type": "markdown",
   "metadata": {},
   "source": [
    "The `method` parameter controls whether you are going to fill in the missing value with the immediate preceding or following value. Set it equal to the string 'ffill' to fill missing values going 'forward', i.e. using the immediate preceding value."
   ]
  },
  {
   "cell_type": "code",
   "execution_count": null,
   "metadata": {},
   "outputs": [],
   "source": [
    "df.fillna(method='ffill')"
   ]
  },
  {
   "cell_type": "markdown",
   "metadata": {},
   "source": [
    "Notice that the first value for the `orders` column is still missing as there is no immediately preceding value to fill it with. Use the string 'bfill' to fill missing values going backwards."
   ]
  },
  {
   "cell_type": "code",
   "execution_count": null,
   "metadata": {},
   "outputs": [],
   "source": [
    "df.fillna(method='bfill')"
   ]
  },
  {
   "cell_type": "markdown",
   "metadata": {},
   "source": [
    "You can limit the number of consecutive values filled with the `limit` parameter. Here we limit the number filled to only 1."
   ]
  },
  {
   "cell_type": "code",
   "execution_count": null,
   "metadata": {},
   "outputs": [],
   "source": [
    "df.fillna(method='ffill', limit=1)"
   ]
  },
  {
   "cell_type": "markdown",
   "metadata": {},
   "source": [
    "When you use `fillna`, you must choose between filling with a constant demonstrated by the first example or by forward or backfilling with the `method` parameter, shown in the second example."
   ]
  },
  {
   "cell_type": "markdown",
   "metadata": {},
   "source": [
    "### The `dropna` method\n",
    "\n",
    "The `dropna` method is used to drop entire rows or columns that contain missing values. Calling it with the default parameters will have it drop all **rows** that have one or more missing values in them. More than 1,000 rows are dropped after the operation."
   ]
  },
  {
   "cell_type": "code",
   "execution_count": null,
   "metadata": {},
   "outputs": [],
   "source": [
    "movie.shape"
   ]
  },
  {
   "cell_type": "code",
   "execution_count": null,
   "metadata": {},
   "outputs": [],
   "source": [
    "movie.dropna().shape"
   ]
  },
  {
   "cell_type": "markdown",
   "metadata": {},
   "source": [
    "The first parameter is `axis` and is defaulted to 0 (or 'index'). Changing it to 1 (or 'columns') drops any columns that have one or more missing values. Only four columns have no missing values."
   ]
  },
  {
   "cell_type": "code",
   "execution_count": null,
   "metadata": {},
   "outputs": [],
   "source": [
    "movie.dropna(axis='columns').shape"
   ]
  },
  {
   "cell_type": "markdown",
   "metadata": {},
   "source": [
    "### Drop rows where only a particular column is missing\n",
    "By default, the `dropna` method will drop any rows where there are one or missing values for that entire row. In the `movie` DataFrame, there are 22 columns. If one of these 22 columns has a missing value for a particular row, then it will be dropped.\n",
    "\n",
    "pandas gives us the option of only dropping rows where a particular column or columns have missing values. Instead of looking at all 22 columns for missing values, we can restrict the columns with the `subset` parameter by passing it a list of strings. Below, we only drop rows that are missing the `content_rating`. About 300 movies have no `content_rating`."
   ]
  },
  {
   "cell_type": "code",
   "execution_count": null,
   "metadata": {},
   "outputs": [],
   "source": [
    "movie.dropna(subset=['content_rating']).shape"
   ]
  },
  {
   "cell_type": "markdown",
   "metadata": {},
   "source": [
    "Make sure to explore the `how` and `thresh` parameters for even more options with `dropna`."
   ]
  },
  {
   "cell_type": "markdown",
   "metadata": {},
   "source": [
    "## Sorting\n",
    "\n",
    "pandas allows you to sort either by the values of your DataFrame or by the index, which is why it has two separate methods, `sort_values` and `sort_index` instead of just a single method. Thinking in terms of these two separate components can make it easier to remember that they are distinct and different methods.\n",
    "\n",
    "### The `sort_values` method\n",
    "The `sort_values` DataFrame method sorts the DataFrame by the values in one or more columns. Pass the `by` parameter a column name or list of column names to sort. By default, the sorting takes place in ascending manner. The college dataset is used for the remainder of the examples in this chapter."
   ]
  },
  {
   "cell_type": "code",
   "execution_count": null,
   "metadata": {},
   "outputs": [],
   "source": [
    "college = pd.read_csv('../data/college.csv', index_col='instnm')\n",
    "college.head()"
   ]
  },
  {
   "cell_type": "code",
   "execution_count": null,
   "metadata": {},
   "outputs": [],
   "source": [
    "college.sort_values(by='city').head()"
   ]
  },
  {
   "cell_type": "markdown",
   "metadata": {},
   "source": [
    "### Simultaneously sort two or more columns\n",
    "Sort by any number of columns by passing a list of their names to the `by` parameter. The sort begins with the first column. For instance, the following sorts all the colleges by state, and then within each state, sorts by undergraduate population."
   ]
  },
  {
   "cell_type": "code",
   "execution_count": null,
   "metadata": {},
   "outputs": [],
   "source": [
    "state_ugds_sort = college.sort_values(by=['stabbr', 'ugds'])\n",
    "state_ugds_sort[['stabbr', 'ugds']].head()"
   ]
  },
  {
   "cell_type": "markdown",
   "metadata": {},
   "source": [
    "Let's select just the state of Oklahoma to verify that it too is sorted by undergraduate population."
   ]
  },
  {
   "cell_type": "code",
   "execution_count": null,
   "metadata": {},
   "outputs": [],
   "source": [
    "filt = state_ugds_sort['stabbr'] == 'OK'\n",
    "cols = ['stabbr', 'ugds']\n",
    "state_ugds_sort.loc[filt, cols].head()"
   ]
  },
  {
   "cell_type": "markdown",
   "metadata": {},
   "source": [
    "### Sort multiple columns in different directions\n",
    "The `ascending` parameter may be passed a list of booleans that correspond to the list of column names in the `by` parameter. The following sorts by state and then by undergraduate population from greatest to least."
   ]
  },
  {
   "cell_type": "code",
   "execution_count": null,
   "metadata": {},
   "outputs": [],
   "source": [
    "college.sort_values(by=cols, ascending=[True, False]).head()"
   ]
  },
  {
   "cell_type": "markdown",
   "metadata": {},
   "source": [
    "### Sort by the Index\n",
    "The DataFrame may be sorted by its index with the `sort_index` method."
   ]
  },
  {
   "cell_type": "code",
   "execution_count": null,
   "metadata": {},
   "outputs": [],
   "source": [
    "college.sort_index(ascending=False).head()"
   ]
  },
  {
   "cell_type": "markdown",
   "metadata": {},
   "source": [
    "### Sort the columns\n",
    "Interestingly, you can use the same `sort_index` method to sort the columns of the DataFrame. You must remember that pandas uses an Index object to contain the columns. To sort the columns, set the `axis` parameter to 'columns' or 0. This is identical to how we changed the direction of the operation of the statistical methods in the previous chapter. Perhaps this method would have been more appropriately named `sort_axis` instead since it sorts either axis."
   ]
  },
  {
   "cell_type": "code",
   "execution_count": null,
   "metadata": {},
   "outputs": [],
   "source": [
    "college.sort_index(axis='columns').head(2)"
   ]
  },
  {
   "cell_type": "markdown",
   "metadata": {},
   "source": [
    "## Finding the index of the maximum of each column with `idxmax`\n",
    "The `idxmax` method is quite powerful and returns the index of the maximum value of each column. It does not work with string columns. The following selects just the numeric columns and then calls the `idxmax` method."
   ]
  },
  {
   "cell_type": "code",
   "execution_count": null,
   "metadata": {},
   "outputs": [],
   "source": [
    "college.select_dtypes('number').idxmax()"
   ]
  },
  {
   "cell_type": "markdown",
   "metadata": {},
   "source": [
    "### Interpretation of results\n",
    "A Series is returned with the old column names in the index and the index that labels the maximum value of that column. For instance, the school with the highest average SAT Math scores is California Institute of Technology. The school with the highest percentage of undergraduate population above 25 years of age is Dongguk University-Los Angeles. If there are ties, pandas returns the first index that labels the maximum value.\n",
    "\n",
    "The analogous `idxmin` method returns the index where the minimum value exists for every column.\n",
    "\n",
    "## Column and Row Dropping and Renaming\n",
    "\n",
    "### Dropping Columns\n",
    "The `drop` method drops columns passed to the `columns` parameter as either a string or a list of strings. Let's see examples of dropping a single column and then multiple columns. Remember that methods return completely new objects so the original DataFrame is not affected. You'll need to assign the result of the operation to a new variable if you'd like to proceed with the slimmer DataFrame."
   ]
  },
  {
   "cell_type": "code",
   "execution_count": null,
   "metadata": {},
   "outputs": [],
   "source": [
    "college.drop(columns='city').head()"
   ]
  },
  {
   "cell_type": "code",
   "execution_count": null,
   "metadata": {},
   "outputs": [],
   "source": [
    "cols = ['city', 'stabbr', 'satvrmid']\n",
    "college.drop(columns=cols).head()"
   ]
  },
  {
   "cell_type": "markdown",
   "metadata": {},
   "source": [
    "You can also drop rows by **label** and not integer location with the `drop` method. Again, you may use a single label or a list of labels."
   ]
  },
  {
   "cell_type": "code",
   "execution_count": null,
   "metadata": {},
   "outputs": [],
   "source": [
    "rows = ['University of Alabama at Birmingham', 'Amridge University']\n",
    "college.drop(index=rows).head()"
   ]
  },
  {
   "cell_type": "markdown",
   "metadata": {},
   "source": [
    "### Renaming Columns\n",
    "The `rename` method is used to rename columns. Pass a dictionary to the `columns` parameter with keys equal to the old column name and values equal to the new column name. The college dataset has lots of columns with abbreviations that are not immediately recognized. Below, we replace a couple of these columns with more explicit names."
   ]
  },
  {
   "cell_type": "code",
   "execution_count": null,
   "metadata": {},
   "outputs": [],
   "source": [
    "college.rename(columns={'stabbr': 'state_abbreviation',\n",
    "                        'relaffil': 'religious_affiliation'}).head()"
   ]
  },
  {
   "cell_type": "markdown",
   "metadata": {},
   "source": [
    "### Renaming all columns at once\n",
    "Instead of using the `rename` method to rename individual columns, you can assign the `columns` attribute a list of the new column names. The length of the list must be the same as the number of columns. To create an example, we will select the first five columns along with the first two rows of the `college` DataFrame."
   ]
  },
  {
   "cell_type": "code",
   "execution_count": null,
   "metadata": {},
   "outputs": [],
   "source": [
    "college_small = college.iloc[:2, :5]\n",
    "college_small"
   ]
  },
  {
   "cell_type": "markdown",
   "metadata": {},
   "source": [
    "We can now overwrite all of the old columns by assigning them to a list of new column names."
   ]
  },
  {
   "cell_type": "code",
   "execution_count": null,
   "metadata": {},
   "outputs": [],
   "source": [
    "college_small.columns = ['CITY', 'STATE', 'HBCU', 'MEN_ONLY', 'WOMEN_ONLY']\n",
    "college_small"
   ]
  },
  {
   "cell_type": "markdown",
   "metadata": {},
   "source": [
    "## Adding a new column to the DataFrame\n",
    "A new column may be added to a DataFrame using similar syntax as selecting a single column with the brackets. The general syntax will look like the following:\n",
    "\n",
    "```\n",
    ">>> df['new_column'] = <some expression>\n",
    "```\n",
    "\n",
    "Let's add the two SAT columns together and assign the result as a new column. The new column will always be appended to the end. The last five columns are outputted to show the new column."
   ]
  },
  {
   "cell_type": "code",
   "execution_count": null,
   "metadata": {},
   "outputs": [],
   "source": [
    "college['sat_total'] = college['satmtmid'] + college['satvrmid']\n",
    "college.iloc[:5, -5:]"
   ]
  },
  {
   "cell_type": "markdown",
   "metadata": {},
   "source": [
    "### Setting a column equal to a scalar value\n",
    "You can create a new column by assigning it to be a single scalar value. For instance, the following assignment creates a new column of values equal to the number -99."
   ]
  },
  {
   "cell_type": "code",
   "execution_count": null,
   "metadata": {},
   "outputs": [],
   "source": [
    "college['some num'] = -99\n",
    "college.iloc[:5, -5:]"
   ]
  },
  {
   "cell_type": "markdown",
   "metadata": {},
   "source": [
    "### Overwriting an existing column\n",
    "You can replace the contents of a column by assigning an existing column to some other value. Below, we increase the undergraduate population of each college by 10%."
   ]
  },
  {
   "cell_type": "code",
   "execution_count": null,
   "metadata": {},
   "outputs": [],
   "source": [
    "college['ugds'].head()"
   ]
  },
  {
   "cell_type": "code",
   "execution_count": null,
   "metadata": {},
   "outputs": [],
   "source": [
    "college['ugds'] = college['ugds'] * 1.1\n",
    "college.head()"
   ]
  },
  {
   "cell_type": "markdown",
   "metadata": {},
   "source": [
    "### Create a new column from a numpy array\n",
    "You can create a new column by assigning it to a numpy array (or another Python sequence) that is the same length as the DataFrame. Below, we create a column of random normal variables."
   ]
  },
  {
   "cell_type": "code",
   "execution_count": null,
   "metadata": {},
   "outputs": [],
   "source": [
    "import numpy as np\n",
    "college['random normal'] = np.random.randn(len(college))\n",
    "college.iloc[:5, -5:]"
   ]
  },
  {
   "cell_type": "markdown",
   "metadata": {},
   "source": [
    "## Methods Available only to Series and not DataFrames\n",
    "There are more than a few methods that are available only to Series objects, but the following are the most important.\n",
    "\n",
    "### No `str` or `dt` accessor\n",
    "DataFrames have no special methods just for strings or datetimes. There is no `str` or `dt` accessor. You can only use these accessors on Series objects. This usually means that you will select a column as a Series first.\n",
    "\n",
    "### No `unique` or `value_counts`\n",
    "Both `unique` and `value_counts` are only available to Series as well."
   ]
  },
  {
   "cell_type": "markdown",
   "metadata": {},
   "source": [
    "## Exercises\n",
    "Use the college dataset for the first few problems. Uncomment the next line to read in the data dictionary."
   ]
  },
  {
   "cell_type": "code",
   "execution_count": null,
   "metadata": {},
   "outputs": [],
   "source": [
    "# pd.read_csv('../data/college_data_dictionary.csv')"
   ]
  },
  {
   "cell_type": "markdown",
   "metadata": {},
   "source": [
    "### Exercise 1\n",
    "<span  style=\"color:green; font-size:16px\">Find the number of missing values for each row.</span>"
   ]
  },
  {
   "cell_type": "code",
   "execution_count": null,
   "metadata": {},
   "outputs": [],
   "source": []
  },
  {
   "cell_type": "markdown",
   "metadata": {},
   "source": [
    "### Exercise 2\n",
    "<span  style=\"color:green; font-size:16px\">What percentage of rows have more than 5 missing values?</span>"
   ]
  },
  {
   "cell_type": "code",
   "execution_count": null,
   "metadata": {},
   "outputs": [],
   "source": []
  },
  {
   "cell_type": "markdown",
   "metadata": {},
   "source": [
    "### Exercise 3\n",
    "<span  style=\"color:green; font-size:16px\">How many total missing values are there in the entire DataFrame?</span>"
   ]
  },
  {
   "cell_type": "code",
   "execution_count": null,
   "metadata": {},
   "outputs": [],
   "source": []
  },
  {
   "cell_type": "markdown",
   "metadata": {},
   "source": [
    "### Exercise 4\n",
    "<span  style=\"color:green; font-size:16px\">Several of the columns contain binary data (are either 0 or 1). Can you identify the names of these columns?</span>"
   ]
  },
  {
   "cell_type": "code",
   "execution_count": null,
   "metadata": {},
   "outputs": [],
   "source": []
  },
  {
   "cell_type": "markdown",
   "metadata": {},
   "source": [
    "### Exercise 5\n",
    "<span  style=\"color:green; font-size:16px\">Read the documentation on the `dropna` method. What is the shape of the returned DataFrame when called with the defaults? Call it again except only drop rows if `ugds` is missing. What is the shape of this DataFrame?</span>"
   ]
  },
  {
   "cell_type": "code",
   "execution_count": null,
   "metadata": {},
   "outputs": [],
   "source": []
  },
  {
   "cell_type": "markdown",
   "metadata": {},
   "source": [
    "### Exercise 6\n",
    "<span  style=\"color:green; font-size:16px\">Create a new boolean column in the college named 'Verbal Higher' that is True for every college that has a higher verbal than math SAT score. Find the mean of this new column. Why does this number look suspiciously low?</span>"
   ]
  },
  {
   "cell_type": "code",
   "execution_count": null,
   "metadata": {},
   "outputs": [],
   "source": []
  },
  {
   "cell_type": "markdown",
   "metadata": {},
   "source": [
    "### Exercise 7\n",
    "<span  style=\"color:green; font-size:16px\">Find the real percentage of schools with higher verbal than math SAT scores.</span>"
   ]
  },
  {
   "cell_type": "code",
   "execution_count": null,
   "metadata": {},
   "outputs": [],
   "source": []
  },
  {
   "cell_type": "markdown",
   "metadata": {},
   "source": [
    "### Exercise 8\n",
    "<span  style=\"color:green; font-size:16px\">Use the `copy` method to create a new copy of the `college` DataFrame and assign it to variable `college2`. Select all the non-white race columns (`ugds_black` through `ugds_unkn`).  Sum the rows of this DataFrame and assign the result to a variable. Now drop all the non-white race columns from the `college2` DataFrame and assign the result to `college3`. </span>\n",
    "    \n",
    "<span  style=\"color:green; font-size:16px\">Use the `insert` method to insert a new column to the right of the `ugds_white` column of the `college3` DataFrame. Name this column `ugds_nonwhite`.</span>"
   ]
  },
  {
   "cell_type": "code",
   "execution_count": null,
   "metadata": {},
   "outputs": [],
   "source": []
  },
  {
   "cell_type": "markdown",
   "metadata": {},
   "source": [
    "## Use the flights dataset with the remainder of the problems"
   ]
  },
  {
   "cell_type": "markdown",
   "metadata": {},
   "source": [
    "### Exercise 9\n",
    "<span  style=\"color:green; font-size:16px\">Read in the flights dataset (`flights.csv`) and call `dropna` with the defaults. What kind of DataFrame was returned? Why? Verify that each row has at least one missing value.\n",
    "</span>"
   ]
  },
  {
   "cell_type": "code",
   "execution_count": null,
   "metadata": {},
   "outputs": [],
   "source": []
  },
  {
   "cell_type": "markdown",
   "metadata": {},
   "source": [
    "### Exercise 10\n",
    "<span  style=\"color:green; font-size:16px\">Read the `dropna` docs again and keep rows that have at least 28 non-missing values. Verify the results.</span>"
   ]
  },
  {
   "cell_type": "code",
   "execution_count": null,
   "metadata": {},
   "outputs": [],
   "source": []
  },
  {
   "cell_type": "markdown",
   "metadata": {},
   "source": [
    "### Exercise 11\n",
    "<span  style=\"color:green; font-size:16px\">Find the longest `arrival_delay` for every  airline for every month.</span>"
   ]
  },
  {
   "cell_type": "code",
   "execution_count": null,
   "metadata": {},
   "outputs": [],
   "source": []
  }
 ],
 "metadata": {
  "kernelspec": {
   "display_name": "Python 3",
   "language": "python",
   "name": "python3"
  },
  "language_info": {
   "codemirror_mode": {
    "name": "ipython",
    "version": 3
   },
   "file_extension": ".py",
   "mimetype": "text/x-python",
   "name": "python",
   "nbconvert_exporter": "python",
   "pygments_lexer": "ipython3",
   "version": "3.7.1"
  },
  "varInspector": {
   "cols": {
    "lenName": 16,
    "lenType": 16,
    "lenVar": 40
   },
   "kernels_config": {
    "python": {
     "delete_cmd_postfix": "",
     "delete_cmd_prefix": "del ",
     "library": "var_list.py",
     "varRefreshCmd": "print(var_dic_list())"
    },
    "r": {
     "delete_cmd_postfix": ") ",
     "delete_cmd_prefix": "rm(",
     "library": "var_list.r",
     "varRefreshCmd": "cat(var_dic_list()) "
    }
   },
   "types_to_exclude": [
    "module",
    "function",
    "builtin_function_or_method",
    "instance",
    "_Feature"
   ],
   "window_display": false
  }
 },
 "nbformat": 4,
 "nbformat_minor": 2
}
