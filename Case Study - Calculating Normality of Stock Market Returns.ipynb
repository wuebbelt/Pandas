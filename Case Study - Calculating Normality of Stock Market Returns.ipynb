{
 "cells": [
  {
   "cell_type": "markdown",
   "metadata": {},
   "source": [
    "# Case Study: Calculating Normality of Stock Market Returns\n",
    "\n",
    "## Overview\n",
    "We will examine the returns of different stocks to determine if their daily returns follow a normal distribution. We will be making a request to get data from the [IEX developer platform][1]. They have an excellent an easy-to-use API to retrieve market data for free (up to 100 requests per second).\n",
    "\n",
    "\n",
    "## Using the IEX API\n",
    "The IEX API is fairly straightforward to use and there are several examples that you can view to understand how it works. The base URL of the API is `https://api.iextrading.com/1.0` which can be [seen here in the docs][2]. If you scroll down from the last link, you will see how the API is used. Each **endpont** is documented. Let's use the [chart endpoint][3].\n",
    "\n",
    "We simply append **`/stock/{symbol}/chart/{range}`** to the base URL and put the stock symbol and range of data we want (without the curly braces) to retrieve historical stock price data. Go to the docs to view the available ranges.\n",
    "\n",
    "Let's retrieve the last 5 years of Amazon data (symbol AMZN).\n",
    "\n",
    "[1]: https://iextrading.com/developer/\n",
    "[2]: https://iextrading.com/developer/docs/#endpoints\n",
    "[3]: https://iextrading.com/developer/docs/#chart"
   ]
  },
  {
   "cell_type": "code",
   "execution_count": 1,
   "metadata": {},
   "outputs": [],
   "source": [
    "import pandas as pd"
   ]
  },
  {
   "cell_type": "markdown",
   "metadata": {},
   "source": [
    "### Reading JSON objects\n",
    "Most APIs will respond with JSON data, a standardized format of data that is very similar to a Python dictionary with key-value pairs. This particular JSON data is returned as a list of dictionaries. We can usually read in an API response with the `read_json` pandas function. A DataFrame is created and usually pandas identifies the correct data types for us."
   ]
  },
  {
   "cell_type": "code",
   "execution_count": 2,
   "metadata": {},
   "outputs": [
    {
     "data": {
      "text/html": [
       "<div>\n",
       "<style scoped>\n",
       "    .dataframe tbody tr th:only-of-type {\n",
       "        vertical-align: middle;\n",
       "    }\n",
       "\n",
       "    .dataframe tbody tr th {\n",
       "        vertical-align: top;\n",
       "    }\n",
       "\n",
       "    .dataframe thead th {\n",
       "        text-align: right;\n",
       "    }\n",
       "</style>\n",
       "<table border=\"1\" class=\"dataframe\">\n",
       "  <thead>\n",
       "    <tr style=\"text-align: right;\">\n",
       "      <th></th>\n",
       "      <th>change</th>\n",
       "      <th>changeOverTime</th>\n",
       "      <th>changePercent</th>\n",
       "      <th>close</th>\n",
       "      <th>date</th>\n",
       "      <th>high</th>\n",
       "      <th>label</th>\n",
       "      <th>low</th>\n",
       "      <th>open</th>\n",
       "      <th>unadjustedVolume</th>\n",
       "      <th>volume</th>\n",
       "      <th>vwap</th>\n",
       "    </tr>\n",
       "  </thead>\n",
       "  <tbody>\n",
       "    <tr>\n",
       "      <th>0</th>\n",
       "      <td>-5.38</td>\n",
       "      <td>0.000000</td>\n",
       "      <td>-1.697</td>\n",
       "      <td>311.73</td>\n",
       "      <td>2014-04-11</td>\n",
       "      <td>316.50</td>\n",
       "      <td>Apr 11, 14</td>\n",
       "      <td>309.50</td>\n",
       "      <td>314.00</td>\n",
       "      <td>7292028</td>\n",
       "      <td>7292028</td>\n",
       "      <td>312.5053</td>\n",
       "    </tr>\n",
       "    <tr>\n",
       "      <th>1</th>\n",
       "      <td>4.18</td>\n",
       "      <td>0.013409</td>\n",
       "      <td>1.341</td>\n",
       "      <td>315.91</td>\n",
       "      <td>2014-04-14</td>\n",
       "      <td>320.48</td>\n",
       "      <td>Apr 14, 14</td>\n",
       "      <td>311.28</td>\n",
       "      <td>317.67</td>\n",
       "      <td>4293532</td>\n",
       "      <td>4293532</td>\n",
       "      <td>315.2899</td>\n",
       "    </tr>\n",
       "    <tr>\n",
       "      <th>2</th>\n",
       "      <td>0.17</td>\n",
       "      <td>0.013954</td>\n",
       "      <td>0.054</td>\n",
       "      <td>316.08</td>\n",
       "      <td>2014-04-15</td>\n",
       "      <td>318.28</td>\n",
       "      <td>Apr 15, 14</td>\n",
       "      <td>305.50</td>\n",
       "      <td>316.70</td>\n",
       "      <td>5399337</td>\n",
       "      <td>5399337</td>\n",
       "      <td>311.8701</td>\n",
       "    </tr>\n",
       "    <tr>\n",
       "      <th>3</th>\n",
       "      <td>7.60</td>\n",
       "      <td>0.038334</td>\n",
       "      <td>2.404</td>\n",
       "      <td>323.68</td>\n",
       "      <td>2014-04-16</td>\n",
       "      <td>324.00</td>\n",
       "      <td>Apr 16, 14</td>\n",
       "      <td>314.71</td>\n",
       "      <td>321.17</td>\n",
       "      <td>4285901</td>\n",
       "      <td>4285901</td>\n",
       "      <td>319.5902</td>\n",
       "    </tr>\n",
       "    <tr>\n",
       "      <th>4</th>\n",
       "      <td>1.23</td>\n",
       "      <td>0.042280</td>\n",
       "      <td>0.380</td>\n",
       "      <td>324.91</td>\n",
       "      <td>2014-04-17</td>\n",
       "      <td>328.66</td>\n",
       "      <td>Apr 17, 14</td>\n",
       "      <td>319.76</td>\n",
       "      <td>319.76</td>\n",
       "      <td>4300378</td>\n",
       "      <td>4300378</td>\n",
       "      <td>325.3066</td>\n",
       "    </tr>\n",
       "  </tbody>\n",
       "</table>\n",
       "</div>"
      ],
      "text/plain": [
       "   change  changeOverTime  changePercent   close       date    high  \\\n",
       "0   -5.38        0.000000         -1.697  311.73 2014-04-11  316.50   \n",
       "1    4.18        0.013409          1.341  315.91 2014-04-14  320.48   \n",
       "2    0.17        0.013954          0.054  316.08 2014-04-15  318.28   \n",
       "3    7.60        0.038334          2.404  323.68 2014-04-16  324.00   \n",
       "4    1.23        0.042280          0.380  324.91 2014-04-17  328.66   \n",
       "\n",
       "        label     low    open  unadjustedVolume   volume      vwap  \n",
       "0  Apr 11, 14  309.50  314.00           7292028  7292028  312.5053  \n",
       "1  Apr 14, 14  311.28  317.67           4293532  4293532  315.2899  \n",
       "2  Apr 15, 14  305.50  316.70           5399337  5399337  311.8701  \n",
       "3  Apr 16, 14  314.71  321.17           4285901  4285901  319.5902  \n",
       "4  Apr 17, 14  319.76  319.76           4300378  4300378  325.3066  "
      ]
     },
     "execution_count": 2,
     "metadata": {},
     "output_type": "execute_result"
    }
   ],
   "source": [
    "url = 'https://api.iextrading.com/1.0/stock/AMZN/chart/5y'\n",
    "amzn = pd.read_json(url)\n",
    "amzn.head()"
   ]
  },
  {
   "cell_type": "markdown",
   "metadata": {},
   "source": [
    "### Verify data types\n",
    "It's very important to verify that pandas chose the correct data types. A common occurrence is for a column that looks like it contains numeric data to be actually kept as a string.\n",
    "\n",
    "Looking below, the data types seem to all be correct, save for `label`, which appears to be just a duplicate of the date column. We are good to continue."
   ]
  },
  {
   "cell_type": "code",
   "execution_count": 3,
   "metadata": {},
   "outputs": [
    {
     "data": {
      "text/plain": [
       "change                     float64\n",
       "changeOverTime             float64\n",
       "changePercent              float64\n",
       "close                      float64\n",
       "date                datetime64[ns]\n",
       "high                       float64\n",
       "label                       object\n",
       "low                        float64\n",
       "open                       float64\n",
       "unadjustedVolume             int64\n",
       "volume                       int64\n",
       "vwap                       float64\n",
       "dtype: object"
      ]
     },
     "execution_count": 3,
     "metadata": {},
     "output_type": "execute_result"
    }
   ],
   "source": [
    "amzn.dtypes"
   ]
  },
  {
   "cell_type": "markdown",
   "metadata": {},
   "source": [
    "### Put date in index\n",
    "The date is a good choice as an index since it uniquely labels each row:"
   ]
  },
  {
   "cell_type": "code",
   "execution_count": 4,
   "metadata": {},
   "outputs": [
    {
     "data": {
      "text/html": [
       "<div>\n",
       "<style scoped>\n",
       "    .dataframe tbody tr th:only-of-type {\n",
       "        vertical-align: middle;\n",
       "    }\n",
       "\n",
       "    .dataframe tbody tr th {\n",
       "        vertical-align: top;\n",
       "    }\n",
       "\n",
       "    .dataframe thead th {\n",
       "        text-align: right;\n",
       "    }\n",
       "</style>\n",
       "<table border=\"1\" class=\"dataframe\">\n",
       "  <thead>\n",
       "    <tr style=\"text-align: right;\">\n",
       "      <th></th>\n",
       "      <th>change</th>\n",
       "      <th>changeOverTime</th>\n",
       "      <th>changePercent</th>\n",
       "      <th>close</th>\n",
       "      <th>high</th>\n",
       "      <th>label</th>\n",
       "      <th>low</th>\n",
       "      <th>open</th>\n",
       "      <th>unadjustedVolume</th>\n",
       "      <th>volume</th>\n",
       "      <th>vwap</th>\n",
       "    </tr>\n",
       "    <tr>\n",
       "      <th>date</th>\n",
       "      <th></th>\n",
       "      <th></th>\n",
       "      <th></th>\n",
       "      <th></th>\n",
       "      <th></th>\n",
       "      <th></th>\n",
       "      <th></th>\n",
       "      <th></th>\n",
       "      <th></th>\n",
       "      <th></th>\n",
       "      <th></th>\n",
       "    </tr>\n",
       "  </thead>\n",
       "  <tbody>\n",
       "    <tr>\n",
       "      <th>2014-04-11</th>\n",
       "      <td>-5.38</td>\n",
       "      <td>0.000000</td>\n",
       "      <td>-1.697</td>\n",
       "      <td>311.73</td>\n",
       "      <td>316.50</td>\n",
       "      <td>Apr 11, 14</td>\n",
       "      <td>309.50</td>\n",
       "      <td>314.00</td>\n",
       "      <td>7292028</td>\n",
       "      <td>7292028</td>\n",
       "      <td>312.5053</td>\n",
       "    </tr>\n",
       "    <tr>\n",
       "      <th>2014-04-14</th>\n",
       "      <td>4.18</td>\n",
       "      <td>0.013409</td>\n",
       "      <td>1.341</td>\n",
       "      <td>315.91</td>\n",
       "      <td>320.48</td>\n",
       "      <td>Apr 14, 14</td>\n",
       "      <td>311.28</td>\n",
       "      <td>317.67</td>\n",
       "      <td>4293532</td>\n",
       "      <td>4293532</td>\n",
       "      <td>315.2899</td>\n",
       "    </tr>\n",
       "    <tr>\n",
       "      <th>2014-04-15</th>\n",
       "      <td>0.17</td>\n",
       "      <td>0.013954</td>\n",
       "      <td>0.054</td>\n",
       "      <td>316.08</td>\n",
       "      <td>318.28</td>\n",
       "      <td>Apr 15, 14</td>\n",
       "      <td>305.50</td>\n",
       "      <td>316.70</td>\n",
       "      <td>5399337</td>\n",
       "      <td>5399337</td>\n",
       "      <td>311.8701</td>\n",
       "    </tr>\n",
       "    <tr>\n",
       "      <th>2014-04-16</th>\n",
       "      <td>7.60</td>\n",
       "      <td>0.038334</td>\n",
       "      <td>2.404</td>\n",
       "      <td>323.68</td>\n",
       "      <td>324.00</td>\n",
       "      <td>Apr 16, 14</td>\n",
       "      <td>314.71</td>\n",
       "      <td>321.17</td>\n",
       "      <td>4285901</td>\n",
       "      <td>4285901</td>\n",
       "      <td>319.5902</td>\n",
       "    </tr>\n",
       "    <tr>\n",
       "      <th>2014-04-17</th>\n",
       "      <td>1.23</td>\n",
       "      <td>0.042280</td>\n",
       "      <td>0.380</td>\n",
       "      <td>324.91</td>\n",
       "      <td>328.66</td>\n",
       "      <td>Apr 17, 14</td>\n",
       "      <td>319.76</td>\n",
       "      <td>319.76</td>\n",
       "      <td>4300378</td>\n",
       "      <td>4300378</td>\n",
       "      <td>325.3066</td>\n",
       "    </tr>\n",
       "  </tbody>\n",
       "</table>\n",
       "</div>"
      ],
      "text/plain": [
       "            change  changeOverTime  changePercent   close    high       label  \\\n",
       "date                                                                            \n",
       "2014-04-11   -5.38        0.000000         -1.697  311.73  316.50  Apr 11, 14   \n",
       "2014-04-14    4.18        0.013409          1.341  315.91  320.48  Apr 14, 14   \n",
       "2014-04-15    0.17        0.013954          0.054  316.08  318.28  Apr 15, 14   \n",
       "2014-04-16    7.60        0.038334          2.404  323.68  324.00  Apr 16, 14   \n",
       "2014-04-17    1.23        0.042280          0.380  324.91  328.66  Apr 17, 14   \n",
       "\n",
       "               low    open  unadjustedVolume   volume      vwap  \n",
       "date                                                             \n",
       "2014-04-11  309.50  314.00           7292028  7292028  312.5053  \n",
       "2014-04-14  311.28  317.67           4293532  4293532  315.2899  \n",
       "2014-04-15  305.50  316.70           5399337  5399337  311.8701  \n",
       "2014-04-16  314.71  321.17           4285901  4285901  319.5902  \n",
       "2014-04-17  319.76  319.76           4300378  4300378  325.3066  "
      ]
     },
     "execution_count": 4,
     "metadata": {},
     "output_type": "execute_result"
    }
   ],
   "source": [
    "amzn = amzn.set_index('date')\n",
    "amzn.head()"
   ]
  },
  {
   "cell_type": "markdown",
   "metadata": {},
   "source": [
    "### Select the closing price\n",
    "For this problem, we are only interested in the closing price. To get the **close** column, we pass the column name to the indexing operator."
   ]
  },
  {
   "cell_type": "code",
   "execution_count": 5,
   "metadata": {},
   "outputs": [
    {
     "data": {
      "text/plain": [
       "date\n",
       "2014-04-11    311.73\n",
       "2014-04-14    315.91\n",
       "2014-04-15    316.08\n",
       "2014-04-16    323.68\n",
       "2014-04-17    324.91\n",
       "2014-04-21    330.87\n",
       "2014-04-22    329.32\n",
       "2014-04-23    324.58\n",
       "2014-04-24    337.15\n",
       "2014-04-25    303.83\n",
       "Name: close, dtype: float64"
      ]
     },
     "execution_count": 5,
     "metadata": {},
     "output_type": "execute_result"
    }
   ],
   "source": [
    "close = amzn['close']\n",
    "close.head(10)"
   ]
  },
  {
   "cell_type": "markdown",
   "metadata": {},
   "source": [
    "### Daily percent change\n",
    "pandas Series have a nifty method called `pct_change` which returns the percentage difference between the current and previous elements."
   ]
  },
  {
   "cell_type": "code",
   "execution_count": 6,
   "metadata": {},
   "outputs": [
    {
     "data": {
      "text/plain": [
       "date\n",
       "2014-04-11         NaN\n",
       "2014-04-14    0.013409\n",
       "2014-04-15    0.000538\n",
       "2014-04-16    0.024045\n",
       "2014-04-17    0.003800\n",
       "2014-04-21    0.018344\n",
       "2014-04-22   -0.004685\n",
       "2014-04-23   -0.014393\n",
       "2014-04-24    0.038727\n",
       "2014-04-25   -0.098828\n",
       "Name: close, dtype: float64"
      ]
     },
     "execution_count": 6,
     "metadata": {},
     "output_type": "execute_result"
    }
   ],
   "source": [
    "close_change = close.pct_change()\n",
    "close_change.head(10)"
   ]
  },
  {
   "cell_type": "markdown",
   "metadata": {},
   "source": [
    "### Dataset already has a percent change column\n",
    "The dataset already contains a percent column. We can manually verify that they are equivalent (after taking the percentage into consideration)."
   ]
  },
  {
   "cell_type": "code",
   "execution_count": 7,
   "metadata": {},
   "outputs": [
    {
     "data": {
      "text/plain": [
       "date\n",
       "2014-04-11   -1.697\n",
       "2014-04-14    1.341\n",
       "2014-04-15    0.054\n",
       "2014-04-16    2.404\n",
       "2014-04-17    0.380\n",
       "2014-04-21    1.834\n",
       "2014-04-22   -0.468\n",
       "2014-04-23   -1.439\n",
       "2014-04-24    3.873\n",
       "2014-04-25   -9.883\n",
       "Name: changePercent, dtype: float64"
      ]
     },
     "execution_count": 7,
     "metadata": {},
     "output_type": "execute_result"
    }
   ],
   "source": [
    "amzn['changePercent'].head(10)"
   ]
  },
  {
   "cell_type": "markdown",
   "metadata": {},
   "source": [
    "### Handling Missing Value\n",
    "The first date has a missing value since there was no previous date. The `dropna` method can be used to remove any `NaN` elements."
   ]
  },
  {
   "cell_type": "code",
   "execution_count": 8,
   "metadata": {},
   "outputs": [
    {
     "data": {
      "text/plain": [
       "date\n",
       "2014-04-14    0.013409\n",
       "2014-04-15    0.000538\n",
       "2014-04-16    0.024045\n",
       "2014-04-17    0.003800\n",
       "2014-04-21    0.018344\n",
       "2014-04-22   -0.004685\n",
       "2014-04-23   -0.014393\n",
       "2014-04-24    0.038727\n",
       "2014-04-25   -0.098828\n",
       "2014-04-28   -0.023862\n",
       "Name: close, dtype: float64"
      ]
     },
     "execution_count": 8,
     "metadata": {},
     "output_type": "execute_result"
    }
   ],
   "source": [
    "close_change = close_change.dropna()\n",
    "close_change.head(10)"
   ]
  },
  {
   "cell_type": "markdown",
   "metadata": {},
   "source": [
    "### Checking for Normality\n",
    "There are formal statistical tests for normality that can be used. Instead we will focus on simple data exploration to give us insight."
   ]
  },
  {
   "cell_type": "markdown",
   "metadata": {},
   "source": [
    "### Plotting the returns\n",
    "The main plotting library in Python is matplotlib which will be covered in greater detail in a later chapter. To output plots directly into the notebook, the magic command **`%matplotlib inline`** must be executed first. "
   ]
  },
  {
   "cell_type": "code",
   "execution_count": 9,
   "metadata": {},
   "outputs": [],
   "source": [
    "%matplotlib inline"
   ]
  },
  {
   "cell_type": "markdown",
   "metadata": {},
   "source": [
    "pandas objects have hooks into matplotlib so it's not necessary to import matplotlib directly. The `plot` method can be used to create a number of different kinds of plots with the `kind` parameter. We pass it the string `hist` to create a histogram, along with a histogram-specific argument `bins` to control the number of bins which is also the number of bars plotted. We also change the size of the figure (in inches) by passing a tuple to the `figsize` parameter."
   ]
  },
  {
   "cell_type": "code",
   "execution_count": 10,
   "metadata": {},
   "outputs": [
    {
     "data": {
      "text/plain": [
       "<matplotlib.axes._subplots.AxesSubplot at 0x11a17d5c0>"
      ]
     },
     "execution_count": 10,
     "metadata": {},
     "output_type": "execute_result"
    },
    {
     "data": {
      "image/png": "[encoded data removed]",
      "text/plain": [
       "<Figure size 864x288 with 1 Axes>"
      ]
     },
     "metadata": {
      "needs_background": "light"
     },
     "output_type": "display_data"
    }
   ],
   "source": [
    "close_change.plot(kind='hist', bins=50, figsize=(12, 4))"
   ]
  },
  {
   "cell_type": "markdown",
   "metadata": {},
   "source": [
    "### Use boolean selection to check for normality\n",
    "The plot above is symmetrical and somewhat bell-shaped. It could possibly represent a normal distribution. To more formally check for normality we can count the number of observations that are within 1, 2, and 3 standard deviations. The [68-95-99.7 rule](https://en.wikipedia.org/wiki/68%E2%80%9395%E2%80%9399.7_rule) can be used to determine if the data is approximately normal. We first need to calculate the mean and standard deviation."
   ]
  },
  {
   "cell_type": "code",
   "execution_count": 11,
   "metadata": {},
   "outputs": [
    {
     "data": {
      "text/plain": [
       "(0.0016, 0.0193)"
      ]
     },
     "execution_count": 11,
     "metadata": {},
     "output_type": "execute_result"
    }
   ],
   "source": [
    "mean = close_change.mean()\n",
    "std = close_change.std()\n",
    "mean.round(4), std.round(4)"
   ]
  },
  {
   "cell_type": "markdown",
   "metadata": {},
   "source": [
    "### Absolute number of standard deviations from the mean\n",
    "To standardize our results we can find the number of standard deviations away from the mean each daily return is. To do this, we subtract the mean from the entire Series. We then divide by the standard deviation. This quantity is referred to as the **z-score**."
   ]
  },
  {
   "cell_type": "code",
   "execution_count": 12,
   "metadata": {},
   "outputs": [],
   "source": [
    "z_score = (close_change - mean) / std"
   ]
  },
  {
   "cell_type": "markdown",
   "metadata": {},
   "source": [
    "To help make calculations easier, we will use the absolute value of the z-score."
   ]
  },
  {
   "cell_type": "code",
   "execution_count": 13,
   "metadata": {},
   "outputs": [],
   "source": [
    "z_score_abs = z_score.abs()"
   ]
  },
  {
   "cell_type": "markdown",
   "metadata": {},
   "source": [
    "### Find the percentage by taking the mean\n",
    "Lets' find the percentage of returns less than 1, 2, and 3 standard deviations by taking the mean of a boolean Series."
   ]
  },
  {
   "cell_type": "code",
   "execution_count": 14,
   "metadata": {},
   "outputs": [
    {
     "data": {
      "text/plain": [
       "(0.811, 0.95, 0.979)"
      ]
     },
     "execution_count": 14,
     "metadata": {},
     "output_type": "execute_result"
    }
   ],
   "source": [
    "pct_within1 = (z_score_abs < 1).mean().round(3)\n",
    "pct_within2 = (z_score_abs < 2).mean().round(3)\n",
    "pct_within3 = (z_score_abs < 3).mean().round(3)\n",
    "\n",
    "pct_within1, pct_within2, pct_within3"
   ]
  },
  {
   "cell_type": "markdown",
   "metadata": {},
   "source": [
    "### Results Discussion\n",
    "The percentages of returns within 1, 2 and 3 standard deviations are fairly different than the 68-95-99.7 rule. Much more of the data was concentrated within 1 standard deviation. More than 2% of the returns were greater than 3 standard deviations from the mean compared to just .3% for the rule. This strongly suggests that a normal distribution would not be a good fit for this type of data."
   ]
  },
  {
   "cell_type": "markdown",
   "metadata": {},
   "source": [
    "### Using the percentile to check for normality\n",
    "Alternatively, we can work 'backwords' and find the z-score that represents the 68th, 95th, and 99.7th percentiles of the distribution. For normally distributed data, we would expect these to be 1, 2, and 3 respectively. The `quantile` method completes this operation for us. Note how far off the 68th and 99.7th percentiles are."
   ]
  },
  {
   "cell_type": "code",
   "execution_count": 15,
   "metadata": {},
   "outputs": [
    {
     "data": {
      "text/plain": [
       "0.680    0.69\n",
       "0.950    1.99\n",
       "0.997    5.11\n",
       "Name: close, dtype: float64"
      ]
     },
     "execution_count": 15,
     "metadata": {},
     "output_type": "execute_result"
    }
   ],
   "source": [
    "# Normal distributions return 1, 2, 3\n",
    "z_score_abs.quantile([.68, .95, .997]).round(2)"
   ]
  },
  {
   "cell_type": "markdown",
   "metadata": {},
   "source": [
    "### Check that all Series values are `True`\n",
    "Let's say we wanted to check if all the stock price returns were within 4 standard deviations from the mean. For boolean Series, the `all` method returns `True` if all values are `True` and `False` otherwise."
   ]
  },
  {
   "cell_type": "code",
   "execution_count": 16,
   "metadata": {},
   "outputs": [
    {
     "data": {
      "text/plain": [
       "date\n",
       "2014-04-14     True\n",
       "2014-04-15     True\n",
       "2014-04-16     True\n",
       "2014-04-17     True\n",
       "2014-04-21     True\n",
       "2014-04-22     True\n",
       "2014-04-23     True\n",
       "2014-04-24     True\n",
       "2014-04-25    False\n",
       "2014-04-28     True\n",
       "Name: close, dtype: bool"
      ]
     },
     "execution_count": 16,
     "metadata": {},
     "output_type": "execute_result"
    }
   ],
   "source": [
    "criteria = z_score_abs < 4\n",
    "criteria.head(10)"
   ]
  },
  {
   "cell_type": "code",
   "execution_count": 17,
   "metadata": {},
   "outputs": [
    {
     "data": {
      "text/plain": [
       "False"
      ]
     },
     "execution_count": 17,
     "metadata": {},
     "output_type": "execute_result"
    }
   ],
   "source": [
    "criteria.all()"
   ]
  },
  {
   "cell_type": "markdown",
   "metadata": {},
   "source": [
    "We can duplicate the above logic with the `any` method. The `any` method returns `True` if one or more values in the Series are `True`. Here, we check if any of the returns are greater than or equal to 4."
   ]
  },
  {
   "cell_type": "code",
   "execution_count": 18,
   "metadata": {},
   "outputs": [
    {
     "data": {
      "text/plain": [
       "True"
      ]
     },
     "execution_count": 18,
     "metadata": {},
     "output_type": "execute_result"
    }
   ],
   "source": [
    "criteria = z_score_abs >= 4\n",
    "criteria.any()"
   ]
  },
  {
   "cell_type": "markdown",
   "metadata": {},
   "source": [
    "## Exercises\n",
    "Solutions are in this chapter below the exercises."
   ]
  },
  {
   "cell_type": "markdown",
   "metadata": {},
   "source": [
    "### Exercise 1\n",
    "<span  style=\"color:green; font-size:16px\">Use the IEX API to return historical stock data for the automaker Tesla (TSLA) for the last year. Assign the closing price to the Series `tsla_close`.</span>"
   ]
  },
  {
   "cell_type": "code",
   "execution_count": null,
   "metadata": {},
   "outputs": [],
   "source": []
  },
  {
   "cell_type": "markdown",
   "metadata": {},
   "source": [
    "### Exercise 2\n",
    "<span  style=\"color:green; font-size:16px\">Use one line of code to find the daily percentage returns of TSLA and drop any missing values. Save the result to `tsla_change`.</span>"
   ]
  },
  {
   "cell_type": "code",
   "execution_count": null,
   "metadata": {},
   "outputs": [],
   "source": []
  },
  {
   "cell_type": "markdown",
   "metadata": {},
   "source": [
    "### Exercise 3\n",
    "<span  style=\"color:green; font-size:16px\">Find the mean daily return for Tesla, the first and last closing prices, and the number of trading days. Store all four of these values into separate variables.</span>"
   ]
  },
  {
   "cell_type": "code",
   "execution_count": null,
   "metadata": {},
   "outputs": [],
   "source": []
  },
  {
   "cell_type": "markdown",
   "metadata": {},
   "source": [
    "### Exercise 4\n",
    "<span  style=\"color:green; font-size:16px\">If Tesla returned its mean percentage return every single day since the first day you have data, what would its last closing price be? Is it the same as the actual last closing price? You need to use all the variables calculated from Exercise 3.</span>"
   ]
  },
  {
   "cell_type": "code",
   "execution_count": null,
   "metadata": {},
   "outputs": [],
   "source": []
  },
  {
   "cell_type": "markdown",
   "metadata": {},
   "source": [
    "### Exercise 5\n",
    "<span  style=\"color:green; font-size:16px\">Find the z-score for the Tesla daily returns. Save this to a variable `z_score_raw`. What is the max and minimum score?</span>"
   ]
  },
  {
   "cell_type": "code",
   "execution_count": null,
   "metadata": {},
   "outputs": [],
   "source": []
  },
  {
   "cell_type": "markdown",
   "metadata": {},
   "source": [
    "### Exercise 6\n",
    "<span  style=\"color:green; font-size:16px\">What percentage did Tesla stock increase when it had its highest maximum raw z-score?</span>"
   ]
  },
  {
   "cell_type": "code",
   "execution_count": null,
   "metadata": {},
   "outputs": [],
   "source": []
  },
  {
   "cell_type": "markdown",
   "metadata": {},
   "source": [
    "### Exercise 7\n",
    "<span  style=\"color:green; font-size:16px\">Create a function that accepts a stock ticker symbol (amzn for example) and a date range. Use the parameters `symbol` and `date_range` both of which will be passed strings. It returns the percentage of prices within 1, 2, and 3 standard deviations from the mean. Use your function to return results for different stocks (tsla, fb, slb, gm, etc...)</span>"
   ]
  },
  {
   "cell_type": "code",
   "execution_count": null,
   "metadata": {},
   "outputs": [],
   "source": []
  },
  {
   "cell_type": "markdown",
   "metadata": {},
   "source": [
    "### Exercise 8\n",
    "<span  style=\"color:green; font-size:16px\"> How many days did Tesla close above 300 and below 350?</span>"
   ]
  },
  {
   "cell_type": "code",
   "execution_count": null,
   "metadata": {},
   "outputs": [],
   "source": []
  },
  {
   "cell_type": "markdown",
   "metadata": {},
   "source": [
    "### Exercise 9\n",
    "<span  style=\"color:green; font-size:16px\"> How many days did Tesla close below 200 or above 350?</span>"
   ]
  },
  {
   "cell_type": "code",
   "execution_count": null,
   "metadata": {},
   "outputs": [],
   "source": []
  },
  {
   "cell_type": "markdown",
   "metadata": {},
   "source": [
    "### Exercise 10\n",
    "<span  style=\"color:green; font-size:16px\"> Look up the definition for interquartile range and slice Tesla closing prices so it contains just the interquartile range. There are multiple ways to do this. Check the `quantile` method.</span>"
   ]
  },
  {
   "cell_type": "code",
   "execution_count": null,
   "metadata": {},
   "outputs": [],
   "source": []
  },
  {
   "cell_type": "markdown",
   "metadata": {},
   "source": [
    "### Exercise 11\n",
    "<span  style=\"color:green; font-size:16px\">Find the date of the highest closing price. Find out how many trading days it has been since Tesla recorded it highest closing price.</span>"
   ]
  },
  {
   "cell_type": "code",
   "execution_count": null,
   "metadata": {},
   "outputs": [],
   "source": []
  },
  {
   "cell_type": "markdown",
   "metadata": {},
   "source": [
    "## Solutions"
   ]
  },
  {
   "cell_type": "markdown",
   "metadata": {},
   "source": [
    "### Exercise 1\n",
    "<span  style=\"color:green; font-size:16px\">Use the IEX API to return historical stock data for the automaker Tesla (TSLA) for the last year. Assign the closing price to the Series `tsla_close`.</span>"
   ]
  },
  {
   "cell_type": "code",
   "execution_count": 19,
   "metadata": {},
   "outputs": [
    {
     "data": {
      "text/html": [
       "<div>\n",
       "<style scoped>\n",
       "    .dataframe tbody tr th:only-of-type {\n",
       "        vertical-align: middle;\n",
       "    }\n",
       "\n",
       "    .dataframe tbody tr th {\n",
       "        vertical-align: top;\n",
       "    }\n",
       "\n",
       "    .dataframe thead th {\n",
       "        text-align: right;\n",
       "    }\n",
       "</style>\n",
       "<table border=\"1\" class=\"dataframe\">\n",
       "  <thead>\n",
       "    <tr style=\"text-align: right;\">\n",
       "      <th></th>\n",
       "      <th>change</th>\n",
       "      <th>changeOverTime</th>\n",
       "      <th>changePercent</th>\n",
       "      <th>close</th>\n",
       "      <th>high</th>\n",
       "      <th>label</th>\n",
       "      <th>low</th>\n",
       "      <th>open</th>\n",
       "      <th>unadjustedVolume</th>\n",
       "      <th>volume</th>\n",
       "      <th>vwap</th>\n",
       "    </tr>\n",
       "    <tr>\n",
       "      <th>date</th>\n",
       "      <th></th>\n",
       "      <th></th>\n",
       "      <th></th>\n",
       "      <th></th>\n",
       "      <th></th>\n",
       "      <th></th>\n",
       "      <th></th>\n",
       "      <th></th>\n",
       "      <th></th>\n",
       "      <th></th>\n",
       "      <th></th>\n",
       "    </tr>\n",
       "  </thead>\n",
       "  <tbody>\n",
       "    <tr>\n",
       "      <th>2018-04-09</th>\n",
       "      <td>-9.64</td>\n",
       "      <td>0.000000</td>\n",
       "      <td>-3.221</td>\n",
       "      <td>289.66</td>\n",
       "      <td>309.5000</td>\n",
       "      <td>Apr 9, 18</td>\n",
       "      <td>289.21</td>\n",
       "      <td>300.3700</td>\n",
       "      <td>10249805</td>\n",
       "      <td>10249805</td>\n",
       "      <td>299.7052</td>\n",
       "    </tr>\n",
       "    <tr>\n",
       "      <th>2018-04-10</th>\n",
       "      <td>15.04</td>\n",
       "      <td>0.051923</td>\n",
       "      <td>5.192</td>\n",
       "      <td>304.70</td>\n",
       "      <td>307.1000</td>\n",
       "      <td>Apr 10, 18</td>\n",
       "      <td>293.68</td>\n",
       "      <td>298.9700</td>\n",
       "      <td>11024259</td>\n",
       "      <td>11024259</td>\n",
       "      <td>302.6414</td>\n",
       "    </tr>\n",
       "    <tr>\n",
       "      <th>2018-04-11</th>\n",
       "      <td>-3.77</td>\n",
       "      <td>0.038908</td>\n",
       "      <td>-1.237</td>\n",
       "      <td>300.93</td>\n",
       "      <td>308.9800</td>\n",
       "      <td>Apr 11, 18</td>\n",
       "      <td>299.66</td>\n",
       "      <td>300.7403</td>\n",
       "      <td>7482945</td>\n",
       "      <td>7482945</td>\n",
       "      <td>304.1817</td>\n",
       "    </tr>\n",
       "    <tr>\n",
       "      <th>2018-04-12</th>\n",
       "      <td>-6.85</td>\n",
       "      <td>0.015259</td>\n",
       "      <td>-2.276</td>\n",
       "      <td>294.08</td>\n",
       "      <td>303.9500</td>\n",
       "      <td>Apr 12, 18</td>\n",
       "      <td>293.68</td>\n",
       "      <td>302.3200</td>\n",
       "      <td>7608769</td>\n",
       "      <td>7608769</td>\n",
       "      <td>297.3182</td>\n",
       "    </tr>\n",
       "    <tr>\n",
       "      <th>2018-04-13</th>\n",
       "      <td>6.26</td>\n",
       "      <td>0.036871</td>\n",
       "      <td>2.129</td>\n",
       "      <td>300.34</td>\n",
       "      <td>303.9499</td>\n",
       "      <td>Apr 13, 18</td>\n",
       "      <td>295.98</td>\n",
       "      <td>303.6000</td>\n",
       "      <td>7327223</td>\n",
       "      <td>7327223</td>\n",
       "      <td>300.0102</td>\n",
       "    </tr>\n",
       "  </tbody>\n",
       "</table>\n",
       "</div>"
      ],
      "text/plain": [
       "            change  changeOverTime  changePercent   close      high  \\\n",
       "date                                                                  \n",
       "2018-04-09   -9.64        0.000000         -3.221  289.66  309.5000   \n",
       "2018-04-10   15.04        0.051923          5.192  304.70  307.1000   \n",
       "2018-04-11   -3.77        0.038908         -1.237  300.93  308.9800   \n",
       "2018-04-12   -6.85        0.015259         -2.276  294.08  303.9500   \n",
       "2018-04-13    6.26        0.036871          2.129  300.34  303.9499   \n",
       "\n",
       "                 label     low      open  unadjustedVolume    volume      vwap  \n",
       "date                                                                            \n",
       "2018-04-09   Apr 9, 18  289.21  300.3700          10249805  10249805  299.7052  \n",
       "2018-04-10  Apr 10, 18  293.68  298.9700          11024259  11024259  302.6414  \n",
       "2018-04-11  Apr 11, 18  299.66  300.7403           7482945   7482945  304.1817  \n",
       "2018-04-12  Apr 12, 18  293.68  302.3200           7608769   7608769  297.3182  \n",
       "2018-04-13  Apr 13, 18  295.98  303.6000           7327223   7327223  300.0102  "
      ]
     },
     "execution_count": 19,
     "metadata": {},
     "output_type": "execute_result"
    }
   ],
   "source": [
    "url = 'https://api.iextrading.com/1.0/stock/TSLA/chart/1y'\n",
    "tsla = pd.read_json(url)\n",
    "tsla = tsla.set_index('date')\n",
    "tsla.head()"
   ]
  },
  {
   "cell_type": "code",
   "execution_count": 20,
   "metadata": {},
   "outputs": [
    {
     "data": {
      "text/plain": [
       "date\n",
       "2018-04-09    289.66\n",
       "2018-04-10    304.70\n",
       "2018-04-11    300.93\n",
       "Name: close, dtype: float64"
      ]
     },
     "execution_count": 20,
     "metadata": {},
     "output_type": "execute_result"
    }
   ],
   "source": [
    "tsla_close = tsla['close']\n",
    "tsla_close.head(3)"
   ]
  },
  {
   "cell_type": "markdown",
   "metadata": {},
   "source": [
    "### Exercise 2\n",
    "<span  style=\"color:green; font-size:16px\">Use one line of code to find the daily percentage returns of TSLA and drop any missing values. Save the result to `tsla_change`.</span>"
   ]
  },
  {
   "cell_type": "code",
   "execution_count": 21,
   "metadata": {},
   "outputs": [
    {
     "data": {
      "text/plain": [
       "date\n",
       "2018-04-10    0.051923\n",
       "2018-04-11   -0.012373\n",
       "2018-04-12   -0.022763\n",
       "2018-04-13    0.021287\n",
       "2018-04-16   -0.030399\n",
       "Name: close, dtype: float64"
      ]
     },
     "execution_count": 21,
     "metadata": {},
     "output_type": "execute_result"
    }
   ],
   "source": [
    "tsla_change = tsla_close.pct_change().dropna()\n",
    "tsla_change.head()"
   ]
  },
  {
   "cell_type": "markdown",
   "metadata": {},
   "source": [
    "### Exercise 3\n",
    "<span  style=\"color:green; font-size:16px\">Find the mean daily return for Tesla, the first and last closing prices, and the number of trading days. Store all four of these values into separate variables.</span>"
   ]
  },
  {
   "cell_type": "code",
   "execution_count": 22,
   "metadata": {},
   "outputs": [
    {
     "data": {
      "text/plain": [
       "(0.0005, 289.66, 276.06, 253)"
      ]
     },
     "execution_count": 22,
     "metadata": {},
     "output_type": "execute_result"
    }
   ],
   "source": [
    "mean = tsla_change.mean().round(4)\n",
    "first = tsla_close.iloc[0]\n",
    "last = tsla_close.iloc[-1]\n",
    "n = tsla_change.size\n",
    "mean, first, last, n"
   ]
  },
  {
   "cell_type": "markdown",
   "metadata": {},
   "source": [
    "### Exercise 4\n",
    "<span  style=\"color:green; font-size:16px\">If Tesla returned its mean percentage return every single day since the first day you have data, what would its last closing price be? Is it the same as the actual last closing price? You need to use all the variables calculated from Exercise 3.</span>"
   ]
  },
  {
   "cell_type": "code",
   "execution_count": 23,
   "metadata": {},
   "outputs": [
    {
     "data": {
      "text/plain": [
       "328.7100998703309"
      ]
     },
     "execution_count": 23,
     "metadata": {},
     "output_type": "execute_result"
    }
   ],
   "source": [
    "first * (mean + 1) ** n"
   ]
  },
  {
   "cell_type": "code",
   "execution_count": 24,
   "metadata": {},
   "outputs": [
    {
     "data": {
      "text/plain": [
       "276.06"
      ]
     },
     "execution_count": 24,
     "metadata": {},
     "output_type": "execute_result"
    }
   ],
   "source": [
    "last"
   ]
  },
  {
   "cell_type": "markdown",
   "metadata": {},
   "source": [
    "### Exercise 5\n",
    "<span  style=\"color:green; font-size:16px\">Find the z-score for the Tesla daily returns. Save this to a variable `z_score_raw`. What is the max and minimum score?</span>"
   ]
  },
  {
   "cell_type": "code",
   "execution_count": 25,
   "metadata": {},
   "outputs": [
    {
     "data": {
      "text/plain": [
       "date\n",
       "2018-04-10    1.386715\n",
       "2018-04-11   -0.347139\n",
       "2018-04-12   -0.627323\n",
       "2018-04-13    0.560552\n",
       "2018-04-16   -0.833245\n",
       "Name: close, dtype: float64"
      ]
     },
     "execution_count": 25,
     "metadata": {},
     "output_type": "execute_result"
    }
   ],
   "source": [
    "std = tsla_change.std()\n",
    "z_score_raw = (tsla_change - mean) / std\n",
    "z_score_raw.head()"
   ]
  },
  {
   "cell_type": "code",
   "execution_count": 26,
   "metadata": {},
   "outputs": [
    {
     "data": {
      "text/plain": [
       "(4.664490468653098, -3.762288647595108)"
      ]
     },
     "execution_count": 26,
     "metadata": {},
     "output_type": "execute_result"
    }
   ],
   "source": [
    "z_score_raw.max(), z_score_raw.min()"
   ]
  },
  {
   "cell_type": "markdown",
   "metadata": {},
   "source": [
    "Or with `agg`."
   ]
  },
  {
   "cell_type": "code",
   "execution_count": 27,
   "metadata": {},
   "outputs": [
    {
     "data": {
      "text/plain": [
       "min   -3.762\n",
       "max    4.664\n",
       "Name: close, dtype: float64"
      ]
     },
     "execution_count": 27,
     "metadata": {},
     "output_type": "execute_result"
    }
   ],
   "source": [
    "z_score_raw.agg(['min', 'max']).round(3)"
   ]
  },
  {
   "cell_type": "markdown",
   "metadata": {},
   "source": [
    "### Exercise 6\n",
    "<span  style=\"color:green; font-size:16px\">What percentage did Tesla stock increase when it had its highest maximum raw z-score?</span>"
   ]
  },
  {
   "cell_type": "code",
   "execution_count": 28,
   "metadata": {},
   "outputs": [
    {
     "data": {
      "text/plain": [
       "date\n",
       "2018-10-01    0.173471\n",
       "Name: close, dtype: float64"
      ]
     },
     "execution_count": 28,
     "metadata": {},
     "output_type": "execute_result"
    }
   ],
   "source": [
    "tsla_change[z_score_raw == z_score_raw.max()]"
   ]
  },
  {
   "cell_type": "markdown",
   "metadata": {},
   "source": [
    "### Exercise 7\n",
    "<span  style=\"color:green; font-size:16px\">Create a function that accepts a stock ticker symbol (amzn for example) and a date range. Use the parameters `symbol` and `date_range` both of which will be passed strings. It returns the percentage of prices within 1, 2, and 3 standard deviations from the mean. Use your function to return results for different stocks (tsla, fb, slb, gm, etc...)</span>"
   ]
  },
  {
   "cell_type": "code",
   "execution_count": 29,
   "metadata": {},
   "outputs": [],
   "source": [
    "def stock_pct_finder(symbol, date_range):\n",
    "    url = f'https://api.iextrading.com/1.0/stock/{symbol}/chart/{date_range}'\n",
    "    stock = pd.read_json(url)\n",
    "    close = stock['close']\n",
    "    close_change = close.pct_change().dropna()\n",
    "    \n",
    "    mean = close_change.mean()\n",
    "    std = close_change.std()\n",
    "    z_score_abs = (close_change - mean).abs() / std\n",
    "    \n",
    "    pct_within1 = (z_score_abs < 1).mean().round(3)\n",
    "    pct_within2 = (z_score_abs < 2).mean().round(3)\n",
    "    pct_within3 = (z_score_abs < 3).mean().round(3)\n",
    "\n",
    "    return pct_within1, pct_within2, pct_within3"
   ]
  },
  {
   "cell_type": "code",
   "execution_count": 30,
   "metadata": {},
   "outputs": [
    {
     "data": {
      "text/plain": [
       "(0.811, 0.95, 0.979)"
      ]
     },
     "execution_count": 30,
     "metadata": {},
     "output_type": "execute_result"
    }
   ],
   "source": [
    "stock_pct_finder('amzn', '5y')"
   ]
  },
  {
   "cell_type": "code",
   "execution_count": 31,
   "metadata": {},
   "outputs": [
    {
     "data": {
      "text/plain": [
       "(0.822, 0.968, 0.98)"
      ]
     },
     "execution_count": 31,
     "metadata": {},
     "output_type": "execute_result"
    }
   ],
   "source": [
    "stock_pct_finder('fb', '1y')"
   ]
  },
  {
   "cell_type": "code",
   "execution_count": 32,
   "metadata": {},
   "outputs": [
    {
     "data": {
      "text/plain": [
       "(0.739, 0.937, 0.996)"
      ]
     },
     "execution_count": 32,
     "metadata": {},
     "output_type": "execute_result"
    }
   ],
   "source": [
    "stock_pct_finder('slb', '1y')"
   ]
  },
  {
   "cell_type": "code",
   "execution_count": 33,
   "metadata": {},
   "outputs": [
    {
     "data": {
      "text/plain": [
       "(0.806, 0.945, 0.98)"
      ]
     },
     "execution_count": 33,
     "metadata": {},
     "output_type": "execute_result"
    }
   ],
   "source": [
    "stock_pct_finder('tsla', '1y')"
   ]
  },
  {
   "cell_type": "markdown",
   "metadata": {},
   "source": [
    "### Exercise 8\n",
    "<span  style=\"color:green; font-size:16px\"> How many days did Tesla close above 300 and below 350?</span>"
   ]
  },
  {
   "cell_type": "code",
   "execution_count": 34,
   "metadata": {},
   "outputs": [
    {
     "data": {
      "text/plain": [
       "date\n",
       "2018-04-10    304.70\n",
       "2018-04-11    300.93\n",
       "2018-04-13    300.34\n",
       "2018-04-19    300.08\n",
       "2018-05-02    301.15\n",
       "Name: close, dtype: float64"
      ]
     },
     "execution_count": 34,
     "metadata": {},
     "output_type": "execute_result"
    }
   ],
   "source": [
    "filt = (tsla_close > 300) & (tsla_close < 350)\n",
    "tsla_close[filt].head()"
   ]
  },
  {
   "cell_type": "code",
   "execution_count": 35,
   "metadata": {},
   "outputs": [
    {
     "data": {
      "text/plain": [
       "123"
      ]
     },
     "execution_count": 35,
     "metadata": {},
     "output_type": "execute_result"
    }
   ],
   "source": [
    "tsla_close[filt].size"
   ]
  },
  {
   "cell_type": "code",
   "execution_count": 36,
   "metadata": {},
   "outputs": [
    {
     "data": {
      "text/plain": [
       "123"
      ]
     },
     "execution_count": 36,
     "metadata": {},
     "output_type": "execute_result"
    }
   ],
   "source": [
    "# or using sum method\n",
    "filt.sum()"
   ]
  },
  {
   "cell_type": "code",
   "execution_count": 37,
   "metadata": {},
   "outputs": [
    {
     "data": {
      "text/plain": [
       "123"
      ]
     },
     "execution_count": 37,
     "metadata": {},
     "output_type": "execute_result"
    }
   ],
   "source": [
    "# one line\n",
    "((tsla_close > 300) & (tsla_close < 350)).sum()"
   ]
  },
  {
   "cell_type": "markdown",
   "metadata": {},
   "source": [
    "### Exercise 9\n",
    "<span  style=\"color:green; font-size:16px\"> How many days did Tesla close below 200 or above 350?</span>"
   ]
  },
  {
   "cell_type": "code",
   "execution_count": 38,
   "metadata": {},
   "outputs": [
    {
     "data": {
      "text/plain": [
       "24"
      ]
     },
     "execution_count": 38,
     "metadata": {},
     "output_type": "execute_result"
    }
   ],
   "source": [
    "((tsla_close < 200) | (tsla_close > 350)).sum()"
   ]
  },
  {
   "cell_type": "markdown",
   "metadata": {},
   "source": [
    "### Exercise 10\n",
    "<span  style=\"color:green; font-size:16px\"> Look up the definition for interquartile range and slice Tesla closing prices so it contains just the interquartile range. There are multiple ways to do this. Check the `quantile` method.</span>"
   ]
  },
  {
   "cell_type": "code",
   "execution_count": 39,
   "metadata": {},
   "outputs": [
    {
     "data": {
      "text/plain": [
       "date\n",
       "2019-03-13    288.96\n",
       "2019-04-01    289.18\n",
       "2018-09-13    289.46\n",
       "2018-04-09    289.66\n",
       "2019-03-14    289.96\n",
       "Name: close, dtype: float64"
      ]
     },
     "execution_count": 39,
     "metadata": {},
     "output_type": "execute_result"
    }
   ],
   "source": [
    "# a few ways to do this\n",
    "n = tsla_close.size\n",
    "first_q = n // 4\n",
    "third_q = n // 4 * 3\n",
    "\n",
    "tsla_close.sort_values().iloc[first_q:third_q].head()"
   ]
  },
  {
   "cell_type": "code",
   "execution_count": 40,
   "metadata": {},
   "outputs": [
    {
     "data": {
      "text/plain": [
       "date\n",
       "2019-04-01    289.18\n",
       "2018-09-13    289.46\n",
       "2018-04-09    289.66\n",
       "2019-03-14    289.96\n",
       "2018-07-30    290.17\n",
       "Name: close, dtype: float64"
      ]
     },
     "execution_count": 40,
     "metadata": {},
     "output_type": "execute_result"
    }
   ],
   "source": [
    "# using the quantile method\n",
    "q1 = tsla_close.quantile(.25)\n",
    "q3 = tsla_close.quantile(.75)\n",
    "\n",
    "criteria = (tsla_close >= q1) & (tsla_close <= q3)\n",
    "\n",
    "tsla_close[criteria].sort_values().head()"
   ]
  },
  {
   "cell_type": "markdown",
   "metadata": {},
   "source": [
    "### Exercise 11\n",
    "<span  style=\"color:green; font-size:16px\">Find the date of the highest closing price. Find out how many trading days it has been since Tesla recorded it highest closing price.</span>"
   ]
  },
  {
   "cell_type": "code",
   "execution_count": 41,
   "metadata": {},
   "outputs": [
    {
     "data": {
      "text/plain": [
       "Timestamp('2018-08-07 00:00:00')"
      ]
     },
     "execution_count": 41,
     "metadata": {},
     "output_type": "execute_result"
    }
   ],
   "source": [
    "max_close_date = tsla_close.idxmax()\n",
    "max_close_date"
   ]
  },
  {
   "cell_type": "markdown",
   "metadata": {},
   "source": [
    "Number of trading days"
   ]
  },
  {
   "cell_type": "code",
   "execution_count": 42,
   "metadata": {},
   "outputs": [
    {
     "data": {
      "text/plain": [
       "170"
      ]
     },
     "execution_count": 42,
     "metadata": {},
     "output_type": "execute_result"
    }
   ],
   "source": [
    "tsla_close.loc[max_close_date:].size"
   ]
  },
  {
   "cell_type": "markdown",
   "metadata": {},
   "source": [
    "Number of actual days"
   ]
  },
  {
   "cell_type": "code",
   "execution_count": 43,
   "metadata": {},
   "outputs": [
    {
     "data": {
      "text/plain": [
       "Timedelta('246 days 00:00:00')"
      ]
     },
     "execution_count": 43,
     "metadata": {},
     "output_type": "execute_result"
    }
   ],
   "source": [
    "tsla_close.index[-1] - max_close_date"
   ]
  }
 ],
 "metadata": {
  "kernelspec": {
   "display_name": "Python 3",
   "language": "python",
   "name": "python3"
  },
  "language_info": {
   "codemirror_mode": {
    "name": "ipython",
    "version": 3
   },
   "file_extension": ".py",
   "mimetype": "text/x-python",
   "name": "python",
   "nbconvert_exporter": "python",
   "pygments_lexer": "ipython3",
   "version": "3.7.1"
  }
 },
 "nbformat": 4,
 "nbformat_minor": 2
}
