{
 "cells": [
  {
   "cell_type": "raw",
   "metadata": {},
   "source": [
    "\\part{Essential Commands}"
   ]
  },
  {
   "cell_type": "markdown",
   "metadata": {},
   "source": [
    "# Series Attributes and Statistical Methods\n",
    "\n",
    "## Overview\n",
    "\n",
    "+ pandas Series and DataFrame objects have a tremendous amount of methods\n",
    "+ Not necessary to know how to use all of them\n",
    "+ A subset of these methods are sufficient for all data analysis tasks\n",
    "+ Know where to find the Series API\n",
    "+ Know the common attributes\n",
    "+ Overview of the statistical methods\n",
    "+ Distinguish between aggregation and non-aggregation methods\n",
    "+ Know what a vectorized operation is\n",
    "+ Know how to call a method after applying a mathematical operation to a Series\n",
    "\n",
    "### Only selected subsets of data\n",
    "Our main accomplishment up to this point has been selecting subsets of data. We have not changed the data or made many interesting calculations. Our selections have happened in two ways:\n",
    "\n",
    "* Selection by label and integer location\n",
    "* Selection by actual values (Boolean Selection)\n",
    "\n",
    "Both of these methods involve using Python's selection operator, the brackets `[]`.\n",
    "\n",
    "## Calling methods on a Series/DataFrame\n",
    "Selecting subsets of data does not usually require calling methods using dot notation. In this chapter we will call many methods that will perform actions on our DataFrame. We have actually already called some methods such as the `head`, `tail`, `isna`, and `set_index` methods. There are around 250 methods available to both DataFrames and Series.\n",
    "\n",
    "### Use a subset of methods\n",
    "It can be quite overwhelming to think about having to learn and memorize this staggering amount of functionality. The good news is that many of these methods are quite unnecessary and don't add any extra functionality. Furthermore, many methods are remnants from the early days of pandas and have few/no use cases or have been **deprecated**. When a method is deprecated, then it is both discouraged from being used and will likely be removed from the library in the future.\n",
    "\n",
    "### Minimally Sufficient pandas\n",
    "I suggest using a subset of the pandas library that allows you to do as many tasks as possible. I focus on the subset of pandas that maximizes both performance and readability. Since there is so much functionality, power users of pandas can think of very creative and complex code to accomplish different tasks. This is not necessarily a positive thing and when working with a group of other data scientists can lead to confusion for those that are not familiar with the syntax. One of my most popular blog posts is titled [Minimally Sufficient Pandas][3] and goes into great detail on this.\n",
    "\n",
    "## Begin with the Series\n",
    "We will begin our exploration of the pandas library by accessing attributes and calling methods from Series objects.\n",
    "\n",
    "### View the API for a complete list of functionality\n",
    "All modern programming languages use the term **Application Programming Interface** or **API** to list and describe all the possible functionality therein. The pandas API reference can be found [here][1]. This is a huge list, but as mentioned above, only a subset of this page is needed for the vast majority of tasks.\n",
    "\n",
    "### The best of the pandas Series API\n",
    "The pandas Series object is a single column of data and easier to work with than an entire DataFrame. We start with it and cover the most basic and important methods below. Navigate to the [Series API][2] section of the documentation.\n",
    "\n",
    "### City of Houston Employee Data\n",
    "We will use a small public dataset containing City of Houston employee information on their position, race, gender, and salary. Notice that the column `hire_date` can be coerced to a datetime.\n",
    "\n",
    "[1]: http://pandas.pydata.org/pandas-docs/stable/reference/index.html\n",
    "[2]: http://pandas.pydata.org/pandas-docs/stable/reference/series.html\n",
    "[3]: https://medium.com/dunder-data/minimally-sufficient-pandas-a8e67f2a2428"
   ]
  },
  {
   "cell_type": "code",
   "execution_count": null,
   "metadata": {},
   "outputs": [],
   "source": [
    "import pandas as pd\n",
    "emp = pd.read_csv('../data/employee.csv', parse_dates=['hire_date'])\n",
    "emp.head()"
   ]
  },
  {
   "cell_type": "markdown",
   "metadata": {},
   "source": [
    "### Select a single column as a Series\n",
    "Let's select the `salary` column as a Series and use it to explore the Series API."
   ]
  },
  {
   "cell_type": "code",
   "execution_count": null,
   "metadata": {},
   "outputs": [],
   "source": [
    "salary = emp['salary']\n",
    "salary.head()"
   ]
  },
  {
   "cell_type": "code",
   "execution_count": null,
   "metadata": {},
   "outputs": [],
   "source": [
    "type(salary)"
   ]
  },
  {
   "cell_type": "markdown",
   "metadata": {},
   "source": [
    "## Core Series Attributes\n",
    "pandas Series have [many attributes][1], but only a few are important to know. The attributes to be aware of are:\n",
    "\n",
    "* `index`\n",
    "* `values`\n",
    "* `size`\n",
    "* `dtype`\n",
    "\n",
    "The `index` and `values` were covered in a previous chapter. Only `size` and `dtype` are new. The size represents the total number of values in the Series. The `dtype` returns the data type of the values. Remember that all values in the Series will share the same data type. Let's display these now.\n",
    "\n",
    "[1]: http://pandas.pydata.org/pandas-docs/stable/reference/series.html#attributes"
   ]
  },
  {
   "cell_type": "code",
   "execution_count": null,
   "metadata": {},
   "outputs": [],
   "source": [
    "salary.size"
   ]
  },
  {
   "cell_type": "code",
   "execution_count": null,
   "metadata": {},
   "outputs": [],
   "source": [
    "salary.dtype"
   ]
  },
  {
   "cell_type": "markdown",
   "metadata": {},
   "source": [
    "### `len` function instead of `size` attribute\n",
    "The built-in `len` function returns the same number as the `size` attribute. They are both equally acceptable."
   ]
  },
  {
   "cell_type": "code",
   "execution_count": null,
   "metadata": {},
   "outputs": [],
   "source": [
    "len(salary)"
   ]
  },
  {
   "cell_type": "markdown",
   "metadata": {},
   "source": [
    "## Arithmetic operators\n",
    "Series have the ability to work with all of the following common arithmetic operators:\n",
    "\n",
    "* `+` - Addition\n",
    "* `-` - Subtraction\n",
    "* `*` - Multiplication\n",
    "* `/` - Division\n",
    "* `//` - Floor division\n",
    "* `**` - Exponentiation\n",
    "* `%` - Modular division (returns the remainder)\n",
    "\n",
    "All the arithmetic operators operate on every value in the Series. Let's assign the head of the Series to its own variable and then perform a few arithmetic operations on it."
   ]
  },
  {
   "cell_type": "code",
   "execution_count": null,
   "metadata": {},
   "outputs": [],
   "source": [
    "sal_head = salary.head()\n",
    "sal_head"
   ]
  },
  {
   "cell_type": "markdown",
   "metadata": {},
   "source": [
    "Let's add 5 to every value in the Series."
   ]
  },
  {
   "cell_type": "code",
   "execution_count": null,
   "metadata": {},
   "outputs": [],
   "source": [
    "sal_head + 5"
   ]
  },
  {
   "cell_type": "markdown",
   "metadata": {},
   "source": [
    "Raise each value in the Series to the .2 power."
   ]
  },
  {
   "cell_type": "code",
   "execution_count": null,
   "metadata": {},
   "outputs": [],
   "source": [
    "sal_head ** .2"
   ]
  },
  {
   "cell_type": "markdown",
   "metadata": {},
   "source": [
    "Let's divide each value in the Series by 173. This single division sign is referred to as **true division** as it returns all decimal values."
   ]
  },
  {
   "cell_type": "code",
   "execution_count": null,
   "metadata": {},
   "outputs": [],
   "source": [
    "sal_head / 173"
   ]
  },
  {
   "cell_type": "markdown",
   "metadata": {},
   "source": [
    "Two division signs are used for **floor division**. The decimals are truncated (and not rounded) from the result."
   ]
  },
  {
   "cell_type": "code",
   "execution_count": null,
   "metadata": {},
   "outputs": [],
   "source": [
    "sal_head // 173"
   ]
  },
  {
   "cell_type": "markdown",
   "metadata": {},
   "source": [
    "### Isn't this chapter about calling methods?\n",
    "Although the above operations are not actual methods and do not use the dot notation, they work similarly as methods. You can think of them as methods that take exactly one parameter, the other object that is being operated on.\n",
    "\n",
    "### Arithmetic operations are vectorized\n",
    "All the above arithmetic operations are **vectorized**. This means that each operation was applied to each value in the Series without an explicit writing of a `for` loop. Python lists do not work like this and require an explicit for loop to operate on each value.\n",
    "\n",
    "\n",
    "## Comparison Operations\n",
    "\n",
    "The following six comparison operators work similarly as their arithmetic analogs from above:\n",
    "\n",
    "* `< ` - Less than\n",
    "* `<= ` - Less than or equal to\n",
    "* `> ` - Greater than\n",
    "* `>=` - Greater than or equal to\n",
    "* `==` - Equals to\n",
    "* `!=` - Not equal to\n",
    "\n",
    "In the boolean indexing chapters, we used these vectorized comparison operations (without the terminology) to produce Series of booleans. Let's see a few examples below."
   ]
  },
  {
   "cell_type": "code",
   "execution_count": null,
   "metadata": {},
   "outputs": [],
   "source": [
    "sal_head > 50000"
   ]
  },
  {
   "cell_type": "code",
   "execution_count": null,
   "metadata": {},
   "outputs": [],
   "source": [
    "sal_head != 71680"
   ]
  },
  {
   "cell_type": "markdown",
   "metadata": {},
   "source": [
    "## Boolean and Bitwise Operators\n",
    "\n",
    "Python has three boolean operators, the keywords `and`, `or`, and `not`. These operators are syntactically unable to do vectorized boolean operations. Instead, pandas and numpy rely on the bitwise and, or, and not operators, respectively `&`, `|`, and `~` to perform vectorized boolean operations. They were thoroughly covered in the preceding chapters.\n",
    "\n",
    "## Statistical methods\n",
    "We will now call *actual* methods that compute [basic descriptive statistics][1] on a numerical Series. We will do so explicitly with dot notation. It is useful to place these methods into two categories - those that **aggregate** and those that do not.\n",
    "\n",
    "### Aggregation methods\n",
    "A method that performs an aggregation returns a **single** number to summarize the Series. Examples of methods that aggregate are:\n",
    "\n",
    "* `sum`\n",
    "* `min`\n",
    "* `max`\n",
    "* `mean`\n",
    "* `median`\n",
    "* `std` - standard deviation\n",
    "* `var` - variance\n",
    "* `count` - returns number of non-missing values\n",
    "* `describe` - returns most of the above aggregations in one Series\n",
    "* `quantile` - returns the given percentile of the distribution\n",
    "\n",
    "### Non-aggregation methods\n",
    "Any other method that does not return a single value is not an aggregation. Some examples of these methods are:\n",
    "\n",
    "* `abs` - takes absolute value\n",
    "* `round` - round to the nearest given decimal place\n",
    "* `cummin` - cumulative minimum\n",
    "* `cummax` - cumulative maximum\n",
    "* `cumsum` - cumulative sum\n",
    "* `rank` - rank values in a variety of different ways\n",
    "* `diff` - difference between one element and another\n",
    "* `pct_change` - percent change from one element to another\n",
    "\n",
    "[1]: http://pandas.pydata.org/pandas-docs/stable/reference/series.html#computations-descriptive-stats"
   ]
  },
  {
   "cell_type": "markdown",
   "metadata": {},
   "source": [
    "## Aggregation methods\n",
    "Let's use some of the popular aggregation methods:"
   ]
  },
  {
   "cell_type": "code",
   "execution_count": null,
   "metadata": {},
   "outputs": [],
   "source": [
    "salary.sum()"
   ]
  },
  {
   "cell_type": "code",
   "execution_count": null,
   "metadata": {},
   "outputs": [],
   "source": [
    "salary.min()"
   ]
  },
  {
   "cell_type": "markdown",
   "metadata": {},
   "source": [
    "### pandas ignores missing values by default\n",
    "One big difference between pandas and numpy is that pandas ignores missing values by default. When calling aggregation methods such as `sum` or `mean`, pandas ignores any missing value as if that piece of data did not exist. numpy returns `nan` for its aggregation methods when one or more values are missing. Let's verify this by extracting the values of `salary` as a numpy array and then calling the array `sum` method."
   ]
  },
  {
   "cell_type": "code",
   "execution_count": null,
   "metadata": {},
   "outputs": [],
   "source": [
    "salary.values.sum()"
   ]
  },
  {
   "cell_type": "markdown",
   "metadata": {},
   "source": [
    "We can make pandas Series behave like numpy by setting the `skipna` parameter to `False`. All of the statistical methods have the `skipna` parameter available."
   ]
  },
  {
   "cell_type": "code",
   "execution_count": null,
   "metadata": {},
   "outputs": [],
   "source": [
    "salary.sum(skipna=False)"
   ]
  },
  {
   "cell_type": "markdown",
   "metadata": {},
   "source": [
    "### The `count` method"
   ]
  },
  {
   "cell_type": "markdown",
   "metadata": {},
   "source": [
    "The `count` method returns the number of non-missing values. Since this number is less than `len(salary)`, we know missing values exist."
   ]
  },
  {
   "cell_type": "code",
   "execution_count": null,
   "metadata": {},
   "outputs": [],
   "source": [
    "salary.count()"
   ]
  },
  {
   "cell_type": "markdown",
   "metadata": {},
   "source": [
    "## Non-Aggregation methods\n",
    "Taking the absolute value or rounding are two examples of methods that get applied to each individual value in the Series independently. They return a Series the same length as the original and thus are not performing an aggregation. The `abs` method takes the absolute value of each value in the Series. Since none of the values in our salary Series are negative, it remains the same."
   ]
  },
  {
   "cell_type": "code",
   "execution_count": null,
   "metadata": {},
   "outputs": [],
   "source": [
    "sal_head.abs()"
   ]
  },
  {
   "cell_type": "markdown",
   "metadata": {},
   "source": [
    "The `round` method rounds each value to the nearest decimal. Use the `decimals` parameter to determine the place of the rounding. Negative numbers may be used to round places to the left of the decimal as we do in the next example."
   ]
  },
  {
   "cell_type": "code",
   "execution_count": null,
   "metadata": {},
   "outputs": [],
   "source": [
    "# round to the nearest thousand\n",
    "sal_head.round(decimals=-3)"
   ]
  },
  {
   "cell_type": "markdown",
   "metadata": {},
   "source": [
    "### Accumulation methods\n",
    "There are a few accumulation methods that work by keeping track of previous data. For instance, the `cummin` method keeps track of the current minimum value in the Series. It begins at the top at the first value. Since it's the first, it will be the minimum. It then continues down the Series to the second value. If the second value is less than the first, then it will be the new minimum. It returns a Series the same length as the original of all the current minimums."
   ]
  },
  {
   "cell_type": "code",
   "execution_count": null,
   "metadata": {},
   "outputs": [],
   "source": [
    "sal_head.cummin()"
   ]
  },
  {
   "cell_type": "markdown",
   "metadata": {},
   "source": [
    "### The non-aggregation methods return an entirely new Series\n",
    "The non-aggregation methods return an entirely new Series and do not modify the calling Series. This is a crucial concept to understand. pandas has only a few operations and methods that modify objects in-place. Nearly all of the time, a new object is returned. Let's verify that the calling object has not changed."
   ]
  },
  {
   "cell_type": "code",
   "execution_count": null,
   "metadata": {},
   "outputs": [],
   "source": [
    "sal_head_round = sal_head.round(decimals=-3)"
   ]
  },
  {
   "cell_type": "code",
   "execution_count": null,
   "metadata": {},
   "outputs": [],
   "source": [
    "sal_head_round"
   ]
  },
  {
   "cell_type": "code",
   "execution_count": null,
   "metadata": {},
   "outputs": [],
   "source": [
    "sal_head"
   ]
  },
  {
   "cell_type": "markdown",
   "metadata": {},
   "source": [
    "## Operations on a boolean Series\n",
    "One nice property of boolean Series is that their values evaluate to 0/1. `False` evaluates to 0 and `True` evaluates to 1. This makes for some nice shortcuts when answering some queries. Let's create a boolean Series determining whether an employee is white or not."
   ]
  },
  {
   "cell_type": "code",
   "execution_count": null,
   "metadata": {},
   "outputs": [],
   "source": [
    "race = emp['race'] \n",
    "filt = race == 'White'\n",
    "filt.head()"
   ]
  },
  {
   "cell_type": "markdown",
   "metadata": {},
   "source": [
    "If we are interested in the number of employees that are white, we could do boolean selection like this and then find the length of the result."
   ]
  },
  {
   "cell_type": "code",
   "execution_count": null,
   "metadata": {},
   "outputs": [],
   "source": [
    "white_emp = race[filt]\n",
    "white_emp.head()"
   ]
  },
  {
   "cell_type": "code",
   "execution_count": null,
   "metadata": {},
   "outputs": [],
   "source": [
    "len(white_emp)"
   ]
  },
  {
   "cell_type": "markdown",
   "metadata": {},
   "source": [
    "### Sum a boolean Series\n",
    "Instead, we can just sum the boolean Series as each white employee will be `True` which is equivalent to 1. Therefore summing a boolean Series counts the number of values that are `True`."
   ]
  },
  {
   "cell_type": "code",
   "execution_count": null,
   "metadata": {},
   "outputs": [],
   "source": [
    "filt.sum()"
   ]
  },
  {
   "cell_type": "markdown",
   "metadata": {},
   "source": [
    "We can even shorten this to a single line of code."
   ]
  },
  {
   "cell_type": "code",
   "execution_count": null,
   "metadata": {},
   "outputs": [],
   "source": [
    "(emp['race'] == 'White').sum()"
   ]
  },
  {
   "cell_type": "markdown",
   "metadata": {},
   "source": [
    "### Explanation of this one line of code\n",
    "Writing `(emp['race'] == 'White').sum()` first compares each value in the race column to the string 'White'. This is the code within the parentheses: `emp['race'] == 'White'`.\n",
    "\n",
    "This produces a temporary Series, which has all the available methods as any other Series. We then call the `sum` method on this temporary Series to get the desired result."
   ]
  },
  {
   "cell_type": "markdown",
   "metadata": {},
   "source": [
    "## Exercises\n",
    "\n",
    "### Exercise 1\n",
    "<span  style=\"color:green; font-size:16px\">Read in the movie dataset with the title as the index and assign the `imdb_score` as a Series to variable `score`. Output the first 5 values.</span>"
   ]
  },
  {
   "cell_type": "code",
   "execution_count": null,
   "metadata": {},
   "outputs": [],
   "source": []
  },
  {
   "cell_type": "markdown",
   "metadata": {},
   "source": [
    "### Exercise 2\n",
    "<span  style=\"color:green; font-size:16px\">What is the data type of `score` and how many values does it contain?</span>"
   ]
  },
  {
   "cell_type": "code",
   "execution_count": null,
   "metadata": {},
   "outputs": [],
   "source": []
  },
  {
   "cell_type": "markdown",
   "metadata": {},
   "source": [
    "### Exercise 3\n",
    "<span  style=\"color:green; font-size:16px\">What is the maximum and minimum score?</span>"
   ]
  },
  {
   "cell_type": "code",
   "execution_count": null,
   "metadata": {},
   "outputs": [],
   "source": []
  },
  {
   "cell_type": "markdown",
   "metadata": {},
   "source": [
    "### Exercise 4\n",
    "<span  style=\"color:green; font-size:16px\">How many missing values are there in the `score`?</span>"
   ]
  },
  {
   "cell_type": "code",
   "execution_count": null,
   "metadata": {},
   "outputs": [],
   "source": []
  },
  {
   "cell_type": "markdown",
   "metadata": {},
   "source": [
    "### Exercise 5\n",
    "<span  style=\"color:green; font-size:16px\">Read he docstrings on how the `rank` method works and then rank the first 10 values in `score` from highest to lowest.</span>"
   ]
  },
  {
   "cell_type": "code",
   "execution_count": null,
   "metadata": {},
   "outputs": [],
   "source": []
  },
  {
   "cell_type": "markdown",
   "metadata": {},
   "source": [
    "### Exercise 6\n",
    "<span  style=\"color:green; font-size:16px\">How many movies have scores greater than 6? (Remember that True/False evaluates to 1/0)</span>"
   ]
  },
  {
   "cell_type": "code",
   "execution_count": null,
   "metadata": {},
   "outputs": [],
   "source": []
  },
  {
   "cell_type": "markdown",
   "metadata": {},
   "source": [
    "### Exercise 7\n",
    "<span  style=\"color:green; font-size:16px\">How many movies have scores greater than 4 and less than 7?</span>"
   ]
  },
  {
   "cell_type": "code",
   "execution_count": null,
   "metadata": {},
   "outputs": [],
   "source": []
  },
  {
   "cell_type": "markdown",
   "metadata": {},
   "source": [
    "### Exercise 8\n",
    "<span  style=\"color:green; font-size:16px\">Find the difference between the median and mean of the scores.</span>"
   ]
  },
  {
   "cell_type": "code",
   "execution_count": null,
   "metadata": {},
   "outputs": [],
   "source": []
  },
  {
   "cell_type": "markdown",
   "metadata": {},
   "source": [
    "### Exercise 9\n",
    "<span  style=\"color:green; font-size:16px\">Add 1 to every value of `score` and then calculate the median.</span>"
   ]
  },
  {
   "cell_type": "code",
   "execution_count": null,
   "metadata": {},
   "outputs": [],
   "source": []
  },
  {
   "cell_type": "markdown",
   "metadata": {},
   "source": [
    "### Exercise 10\n",
    "<span  style=\"color:green; font-size:16px\">Calculate the median of `score` and add 1 to this. Why is this value the same as Exercise 9?</span>"
   ]
  },
  {
   "cell_type": "code",
   "execution_count": null,
   "metadata": {},
   "outputs": [],
   "source": []
  },
  {
   "cell_type": "markdown",
   "metadata": {},
   "source": [
    "### Exercise 11\n",
    "<span  style=\"color:green; font-size:16px\">Return a Series that has only scores above the 99.9th percentile</span>"
   ]
  },
  {
   "cell_type": "code",
   "execution_count": null,
   "metadata": {},
   "outputs": [],
   "source": []
  }
 ],
 "metadata": {
  "kernelspec": {
   "display_name": "Python 3",
   "language": "python",
   "name": "python3"
  },
  "language_info": {
   "codemirror_mode": {
    "name": "ipython",
    "version": 3
   },
   "file_extension": ".py",
   "mimetype": "text/x-python",
   "name": "python",
   "nbconvert_exporter": "python",
   "pygments_lexer": "ipython3",
   "version": "3.7.1"
  },
  "varInspector": {
   "cols": {
    "lenName": 16,
    "lenType": 16,
    "lenVar": 40
   },
   "kernels_config": {
    "python": {
     "delete_cmd_postfix": "",
     "delete_cmd_prefix": "del ",
     "library": "var_list.py",
     "varRefreshCmd": "print(var_dic_list())"
    },
    "r": {
     "delete_cmd_postfix": ") ",
     "delete_cmd_prefix": "rm(",
     "library": "var_list.r",
     "varRefreshCmd": "cat(var_dic_list()) "
    }
   },
   "types_to_exclude": [
    "module",
    "function",
    "builtin_function_or_method",
    "instance",
    "_Feature"
   ],
   "window_display": false
  }
 },
 "nbformat": 4,
 "nbformat_minor": 2
}
